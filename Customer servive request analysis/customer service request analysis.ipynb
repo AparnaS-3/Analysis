{
 "cells": [
  {
   "cell_type": "markdown",
   "id": "5228253e",
   "metadata": {},
   "source": [
    "# importing required libraries"
   ]
  },
  {
   "cell_type": "code",
   "execution_count": 1,
   "id": "452a6707",
   "metadata": {},
   "outputs": [],
   "source": [
    "import numpy as np\n",
    "import pandas as pd\n",
    "import matplotlib.pyplot as plt\n",
    "import seaborn as sns\n",
    "sns.set()\n",
    "import datetime\n",
    "import warnings\n",
    "warnings.filterwarnings('ignore')\n",
    "import scipy.stats as stats\n",
    "\n",
    "%matplotlib inline"
   ]
  },
  {
   "cell_type": "markdown",
   "id": "59beeb7a",
   "metadata": {},
   "source": [
    "#### Import a 311 NYC service request"
   ]
  },
  {
   "cell_type": "code",
   "execution_count": 2,
   "id": "d7192c3b",
   "metadata": {},
   "outputs": [],
   "source": [
    "data=pd.read_csv('311_Service_Requests_from_2010_to_Present.csv', low_memory=False,parse_dates=['Created Date','Closed Date'])"
   ]
  },
  {
   "cell_type": "markdown",
   "id": "f1a2e0f9",
   "metadata": {},
   "source": [
    "### here above we have changed created date and closed date type from object to datetime"
   ]
  },
  {
   "cell_type": "markdown",
   "id": "92347ed8",
   "metadata": {},
   "source": [
    "## first five rows"
   ]
  },
  {
   "cell_type": "code",
   "execution_count": 3,
   "id": "e9ea1a50",
   "metadata": {
    "collapsed": true
   },
   "outputs": [
    {
     "data": {
      "text/html": [
       "<div>\n",
       "<style scoped>\n",
       "    .dataframe tbody tr th:only-of-type {\n",
       "        vertical-align: middle;\n",
       "    }\n",
       "\n",
       "    .dataframe tbody tr th {\n",
       "        vertical-align: top;\n",
       "    }\n",
       "\n",
       "    .dataframe thead th {\n",
       "        text-align: right;\n",
       "    }\n",
       "</style>\n",
       "<table border=\"1\" class=\"dataframe\">\n",
       "  <thead>\n",
       "    <tr style=\"text-align: right;\">\n",
       "      <th></th>\n",
       "      <th>Unique Key</th>\n",
       "      <th>Created Date</th>\n",
       "      <th>Closed Date</th>\n",
       "      <th>Agency</th>\n",
       "      <th>Agency Name</th>\n",
       "      <th>Complaint Type</th>\n",
       "      <th>Descriptor</th>\n",
       "      <th>Location Type</th>\n",
       "      <th>Incident Zip</th>\n",
       "      <th>Incident Address</th>\n",
       "      <th>...</th>\n",
       "      <th>Bridge Highway Name</th>\n",
       "      <th>Bridge Highway Direction</th>\n",
       "      <th>Road Ramp</th>\n",
       "      <th>Bridge Highway Segment</th>\n",
       "      <th>Garage Lot Name</th>\n",
       "      <th>Ferry Direction</th>\n",
       "      <th>Ferry Terminal Name</th>\n",
       "      <th>Latitude</th>\n",
       "      <th>Longitude</th>\n",
       "      <th>Location</th>\n",
       "    </tr>\n",
       "  </thead>\n",
       "  <tbody>\n",
       "    <tr>\n",
       "      <th>0</th>\n",
       "      <td>32310363</td>\n",
       "      <td>2015-12-31 23:59:45</td>\n",
       "      <td>2016-01-01 00:55:15</td>\n",
       "      <td>NYPD</td>\n",
       "      <td>New York City Police Department</td>\n",
       "      <td>Noise - Street/Sidewalk</td>\n",
       "      <td>Loud Music/Party</td>\n",
       "      <td>Street/Sidewalk</td>\n",
       "      <td>10034.0</td>\n",
       "      <td>71 VERMILYEA AVENUE</td>\n",
       "      <td>...</td>\n",
       "      <td>NaN</td>\n",
       "      <td>NaN</td>\n",
       "      <td>NaN</td>\n",
       "      <td>NaN</td>\n",
       "      <td>NaN</td>\n",
       "      <td>NaN</td>\n",
       "      <td>NaN</td>\n",
       "      <td>40.865682</td>\n",
       "      <td>-73.923501</td>\n",
       "      <td>(40.86568153633767, -73.92350095571744)</td>\n",
       "    </tr>\n",
       "    <tr>\n",
       "      <th>1</th>\n",
       "      <td>32309934</td>\n",
       "      <td>2015-12-31 23:59:44</td>\n",
       "      <td>2016-01-01 01:26:57</td>\n",
       "      <td>NYPD</td>\n",
       "      <td>New York City Police Department</td>\n",
       "      <td>Blocked Driveway</td>\n",
       "      <td>No Access</td>\n",
       "      <td>Street/Sidewalk</td>\n",
       "      <td>11105.0</td>\n",
       "      <td>27-07 23 AVENUE</td>\n",
       "      <td>...</td>\n",
       "      <td>NaN</td>\n",
       "      <td>NaN</td>\n",
       "      <td>NaN</td>\n",
       "      <td>NaN</td>\n",
       "      <td>NaN</td>\n",
       "      <td>NaN</td>\n",
       "      <td>NaN</td>\n",
       "      <td>40.775945</td>\n",
       "      <td>-73.915094</td>\n",
       "      <td>(40.775945312321085, -73.91509393898605)</td>\n",
       "    </tr>\n",
       "    <tr>\n",
       "      <th>2</th>\n",
       "      <td>32309159</td>\n",
       "      <td>2015-12-31 23:59:29</td>\n",
       "      <td>2016-01-01 04:51:03</td>\n",
       "      <td>NYPD</td>\n",
       "      <td>New York City Police Department</td>\n",
       "      <td>Blocked Driveway</td>\n",
       "      <td>No Access</td>\n",
       "      <td>Street/Sidewalk</td>\n",
       "      <td>10458.0</td>\n",
       "      <td>2897 VALENTINE AVENUE</td>\n",
       "      <td>...</td>\n",
       "      <td>NaN</td>\n",
       "      <td>NaN</td>\n",
       "      <td>NaN</td>\n",
       "      <td>NaN</td>\n",
       "      <td>NaN</td>\n",
       "      <td>NaN</td>\n",
       "      <td>NaN</td>\n",
       "      <td>40.870325</td>\n",
       "      <td>-73.888525</td>\n",
       "      <td>(40.870324522111424, -73.88852464418646)</td>\n",
       "    </tr>\n",
       "    <tr>\n",
       "      <th>3</th>\n",
       "      <td>32305098</td>\n",
       "      <td>2015-12-31 23:57:46</td>\n",
       "      <td>2016-01-01 07:43:13</td>\n",
       "      <td>NYPD</td>\n",
       "      <td>New York City Police Department</td>\n",
       "      <td>Illegal Parking</td>\n",
       "      <td>Commercial Overnight Parking</td>\n",
       "      <td>Street/Sidewalk</td>\n",
       "      <td>10461.0</td>\n",
       "      <td>2940 BAISLEY AVENUE</td>\n",
       "      <td>...</td>\n",
       "      <td>NaN</td>\n",
       "      <td>NaN</td>\n",
       "      <td>NaN</td>\n",
       "      <td>NaN</td>\n",
       "      <td>NaN</td>\n",
       "      <td>NaN</td>\n",
       "      <td>NaN</td>\n",
       "      <td>40.835994</td>\n",
       "      <td>-73.828379</td>\n",
       "      <td>(40.83599404683083, -73.82837939584206)</td>\n",
       "    </tr>\n",
       "    <tr>\n",
       "      <th>4</th>\n",
       "      <td>32306529</td>\n",
       "      <td>2015-12-31 23:56:58</td>\n",
       "      <td>2016-01-01 03:24:42</td>\n",
       "      <td>NYPD</td>\n",
       "      <td>New York City Police Department</td>\n",
       "      <td>Illegal Parking</td>\n",
       "      <td>Blocked Sidewalk</td>\n",
       "      <td>Street/Sidewalk</td>\n",
       "      <td>11373.0</td>\n",
       "      <td>87-14 57 ROAD</td>\n",
       "      <td>...</td>\n",
       "      <td>NaN</td>\n",
       "      <td>NaN</td>\n",
       "      <td>NaN</td>\n",
       "      <td>NaN</td>\n",
       "      <td>NaN</td>\n",
       "      <td>NaN</td>\n",
       "      <td>NaN</td>\n",
       "      <td>40.733060</td>\n",
       "      <td>-73.874170</td>\n",
       "      <td>(40.733059618956815, -73.87416975810375)</td>\n",
       "    </tr>\n",
       "  </tbody>\n",
       "</table>\n",
       "<p>5 rows × 53 columns</p>\n",
       "</div>"
      ],
      "text/plain": [
       "   Unique Key        Created Date         Closed Date Agency  \\\n",
       "0    32310363 2015-12-31 23:59:45 2016-01-01 00:55:15   NYPD   \n",
       "1    32309934 2015-12-31 23:59:44 2016-01-01 01:26:57   NYPD   \n",
       "2    32309159 2015-12-31 23:59:29 2016-01-01 04:51:03   NYPD   \n",
       "3    32305098 2015-12-31 23:57:46 2016-01-01 07:43:13   NYPD   \n",
       "4    32306529 2015-12-31 23:56:58 2016-01-01 03:24:42   NYPD   \n",
       "\n",
       "                       Agency Name           Complaint Type  \\\n",
       "0  New York City Police Department  Noise - Street/Sidewalk   \n",
       "1  New York City Police Department         Blocked Driveway   \n",
       "2  New York City Police Department         Blocked Driveway   \n",
       "3  New York City Police Department          Illegal Parking   \n",
       "4  New York City Police Department          Illegal Parking   \n",
       "\n",
       "                     Descriptor    Location Type  Incident Zip  \\\n",
       "0              Loud Music/Party  Street/Sidewalk       10034.0   \n",
       "1                     No Access  Street/Sidewalk       11105.0   \n",
       "2                     No Access  Street/Sidewalk       10458.0   \n",
       "3  Commercial Overnight Parking  Street/Sidewalk       10461.0   \n",
       "4              Blocked Sidewalk  Street/Sidewalk       11373.0   \n",
       "\n",
       "        Incident Address  ... Bridge Highway Name Bridge Highway Direction  \\\n",
       "0    71 VERMILYEA AVENUE  ...                 NaN                      NaN   \n",
       "1        27-07 23 AVENUE  ...                 NaN                      NaN   \n",
       "2  2897 VALENTINE AVENUE  ...                 NaN                      NaN   \n",
       "3    2940 BAISLEY AVENUE  ...                 NaN                      NaN   \n",
       "4          87-14 57 ROAD  ...                 NaN                      NaN   \n",
       "\n",
       "  Road Ramp Bridge Highway Segment Garage Lot Name Ferry Direction  \\\n",
       "0       NaN                    NaN             NaN             NaN   \n",
       "1       NaN                    NaN             NaN             NaN   \n",
       "2       NaN                    NaN             NaN             NaN   \n",
       "3       NaN                    NaN             NaN             NaN   \n",
       "4       NaN                    NaN             NaN             NaN   \n",
       "\n",
       "  Ferry Terminal Name   Latitude  Longitude  \\\n",
       "0                 NaN  40.865682 -73.923501   \n",
       "1                 NaN  40.775945 -73.915094   \n",
       "2                 NaN  40.870325 -73.888525   \n",
       "3                 NaN  40.835994 -73.828379   \n",
       "4                 NaN  40.733060 -73.874170   \n",
       "\n",
       "                                   Location  \n",
       "0   (40.86568153633767, -73.92350095571744)  \n",
       "1  (40.775945312321085, -73.91509393898605)  \n",
       "2  (40.870324522111424, -73.88852464418646)  \n",
       "3   (40.83599404683083, -73.82837939584206)  \n",
       "4  (40.733059618956815, -73.87416975810375)  \n",
       "\n",
       "[5 rows x 53 columns]"
      ]
     },
     "execution_count": 3,
     "metadata": {},
     "output_type": "execute_result"
    }
   ],
   "source": [
    "data.head()"
   ]
  },
  {
   "cell_type": "code",
   "execution_count": 4,
   "id": "4ad2d156",
   "metadata": {
    "collapsed": true
   },
   "outputs": [
    {
     "name": "stdout",
     "output_type": "stream",
     "text": [
      "<class 'pandas.core.frame.DataFrame'>\n",
      "RangeIndex: 364558 entries, 0 to 364557\n",
      "Data columns (total 53 columns):\n",
      " #   Column                          Non-Null Count   Dtype         \n",
      "---  ------                          --------------   -----         \n",
      " 0   Unique Key                      364558 non-null  int64         \n",
      " 1   Created Date                    364558 non-null  datetime64[ns]\n",
      " 2   Closed Date                     362177 non-null  datetime64[ns]\n",
      " 3   Agency                          364558 non-null  object        \n",
      " 4   Agency Name                     364558 non-null  object        \n",
      " 5   Complaint Type                  364558 non-null  object        \n",
      " 6   Descriptor                      358057 non-null  object        \n",
      " 7   Location Type                   364425 non-null  object        \n",
      " 8   Incident Zip                    361560 non-null  float64       \n",
      " 9   Incident Address                312859 non-null  object        \n",
      " 10  Street Name                     312859 non-null  object        \n",
      " 11  Cross Street 1                  307370 non-null  object        \n",
      " 12  Cross Street 2                  306753 non-null  object        \n",
      " 13  Intersection Street 1           51120 non-null   object        \n",
      " 14  Intersection Street 2           50512 non-null   object        \n",
      " 15  Address Type                    361306 non-null  object        \n",
      " 16  City                            361561 non-null  object        \n",
      " 17  Landmark                        375 non-null     object        \n",
      " 18  Facility Type                   362169 non-null  object        \n",
      " 19  Status                          364558 non-null  object        \n",
      " 20  Due Date                        364555 non-null  object        \n",
      " 21  Resolution Description          364558 non-null  object        \n",
      " 22  Resolution Action Updated Date  362156 non-null  object        \n",
      " 23  Community Board                 364558 non-null  object        \n",
      " 24  Borough                         364558 non-null  object        \n",
      " 25  X Coordinate (State Plane)      360528 non-null  float64       \n",
      " 26  Y Coordinate (State Plane)      360528 non-null  float64       \n",
      " 27  Park Facility Name              364558 non-null  object        \n",
      " 28  Park Borough                    364558 non-null  object        \n",
      " 29  School Name                     364558 non-null  object        \n",
      " 30  School Number                   364558 non-null  object        \n",
      " 31  School Region                   364557 non-null  object        \n",
      " 32  School Code                     364557 non-null  object        \n",
      " 33  School Phone Number             364558 non-null  object        \n",
      " 34  School Address                  364558 non-null  object        \n",
      " 35  School City                     364558 non-null  object        \n",
      " 36  School State                    364558 non-null  object        \n",
      " 37  School Zip                      364557 non-null  object        \n",
      " 38  School Not Found                364558 non-null  object        \n",
      " 39  School or Citywide Complaint    0 non-null       float64       \n",
      " 40  Vehicle Type                    0 non-null       float64       \n",
      " 41  Taxi Company Borough            0 non-null       float64       \n",
      " 42  Taxi Pick Up Location           0 non-null       float64       \n",
      " 43  Bridge Highway Name             297 non-null     object        \n",
      " 44  Bridge Highway Direction        297 non-null     object        \n",
      " 45  Road Ramp                       262 non-null     object        \n",
      " 46  Bridge Highway Segment          262 non-null     object        \n",
      " 47  Garage Lot Name                 0 non-null       float64       \n",
      " 48  Ferry Direction                 1 non-null       object        \n",
      " 49  Ferry Terminal Name             2 non-null       object        \n",
      " 50  Latitude                        360528 non-null  float64       \n",
      " 51  Longitude                       360528 non-null  float64       \n",
      " 52  Location                        360528 non-null  object        \n",
      "dtypes: datetime64[ns](2), float64(10), int64(1), object(40)\n",
      "memory usage: 147.4+ MB\n"
     ]
    }
   ],
   "source": [
    "data.info()"
   ]
  },
  {
   "cell_type": "code",
   "execution_count": 5,
   "id": "2a850b70",
   "metadata": {
    "collapsed": true
   },
   "outputs": [
    {
     "data": {
      "text/plain": [
       "Index(['Unique Key', 'Created Date', 'Closed Date', 'Agency', 'Agency Name',\n",
       "       'Complaint Type', 'Descriptor', 'Location Type', 'Incident Zip',\n",
       "       'Incident Address', 'Street Name', 'Cross Street 1', 'Cross Street 2',\n",
       "       'Intersection Street 1', 'Intersection Street 2', 'Address Type',\n",
       "       'City', 'Landmark', 'Facility Type', 'Status', 'Due Date',\n",
       "       'Resolution Description', 'Resolution Action Updated Date',\n",
       "       'Community Board', 'Borough', 'X Coordinate (State Plane)',\n",
       "       'Y Coordinate (State Plane)', 'Park Facility Name', 'Park Borough',\n",
       "       'School Name', 'School Number', 'School Region', 'School Code',\n",
       "       'School Phone Number', 'School Address', 'School City', 'School State',\n",
       "       'School Zip', 'School Not Found', 'School or Citywide Complaint',\n",
       "       'Vehicle Type', 'Taxi Company Borough', 'Taxi Pick Up Location',\n",
       "       'Bridge Highway Name', 'Bridge Highway Direction', 'Road Ramp',\n",
       "       'Bridge Highway Segment', 'Garage Lot Name', 'Ferry Direction',\n",
       "       'Ferry Terminal Name', 'Latitude', 'Longitude', 'Location'],\n",
       "      dtype='object')"
      ]
     },
     "execution_count": 5,
     "metadata": {},
     "output_type": "execute_result"
    }
   ],
   "source": [
    "data.columns"
   ]
  },
  {
   "cell_type": "code",
   "execution_count": 6,
   "id": "99799826",
   "metadata": {
    "collapsed": true
   },
   "outputs": [
    {
     "data": {
      "text/plain": [
       "19321574"
      ]
     },
     "execution_count": 6,
     "metadata": {},
     "output_type": "execute_result"
    }
   ],
   "source": [
    "data.size"
   ]
  },
  {
   "cell_type": "code",
   "execution_count": 7,
   "id": "8e661cbf",
   "metadata": {
    "collapsed": true
   },
   "outputs": [
    {
     "data": {
      "text/plain": [
       "(364558, 53)"
      ]
     },
     "execution_count": 7,
     "metadata": {},
     "output_type": "execute_result"
    }
   ],
   "source": [
    "data.shape"
   ]
  },
  {
   "cell_type": "markdown",
   "id": "ed88e308",
   "metadata": {},
   "source": [
    "## checking out the null values"
   ]
  },
  {
   "cell_type": "code",
   "execution_count": 8,
   "id": "716b59db",
   "metadata": {
    "collapsed": true
   },
   "outputs": [
    {
     "data": {
      "text/plain": [
       "Unique Key                             0\n",
       "Created Date                           0\n",
       "Closed Date                         2381\n",
       "Agency                                 0\n",
       "Agency Name                            0\n",
       "Complaint Type                         0\n",
       "Descriptor                          6501\n",
       "Location Type                        133\n",
       "Incident Zip                        2998\n",
       "Incident Address                   51699\n",
       "Street Name                        51699\n",
       "Cross Street 1                     57188\n",
       "Cross Street 2                     57805\n",
       "Intersection Street 1             313438\n",
       "Intersection Street 2             314046\n",
       "Address Type                        3252\n",
       "City                                2997\n",
       "Landmark                          364183\n",
       "Facility Type                       2389\n",
       "Status                                 0\n",
       "Due Date                               3\n",
       "Resolution Description                 0\n",
       "Resolution Action Updated Date      2402\n",
       "Community Board                        0\n",
       "Borough                                0\n",
       "X Coordinate (State Plane)          4030\n",
       "Y Coordinate (State Plane)          4030\n",
       "Park Facility Name                     0\n",
       "Park Borough                           0\n",
       "School Name                            0\n",
       "School Number                          0\n",
       "School Region                          1\n",
       "School Code                            1\n",
       "School Phone Number                    0\n",
       "School Address                         0\n",
       "School City                            0\n",
       "School State                           0\n",
       "School Zip                             1\n",
       "School Not Found                       0\n",
       "School or Citywide Complaint      364558\n",
       "Vehicle Type                      364558\n",
       "Taxi Company Borough              364558\n",
       "Taxi Pick Up Location             364558\n",
       "Bridge Highway Name               364261\n",
       "Bridge Highway Direction          364261\n",
       "Road Ramp                         364296\n",
       "Bridge Highway Segment            364296\n",
       "Garage Lot Name                   364558\n",
       "Ferry Direction                   364557\n",
       "Ferry Terminal Name               364556\n",
       "Latitude                            4030\n",
       "Longitude                           4030\n",
       "Location                            4030\n",
       "dtype: int64"
      ]
     },
     "execution_count": 8,
     "metadata": {},
     "output_type": "execute_result"
    }
   ],
   "source": [
    "data.isnull().sum()"
   ]
  },
  {
   "cell_type": "markdown",
   "id": "b5625c2c",
   "metadata": {},
   "source": [
    "### graphically"
   ]
  },
  {
   "cell_type": "code",
   "execution_count": 9,
   "id": "fa0b0ebc",
   "metadata": {
    "collapsed": true
   },
   "outputs": [
    {
     "data": {
      "text/plain": [
       "Text(0, 0.5, 'VALUE COUNT')"
      ]
     },
     "execution_count": 9,
     "metadata": {},
     "output_type": "execute_result"
    },
    {
     "data": {
      "image/png": "[encoded data removed]",
      "text/plain": [
       "<Figure size 720x360 with 1 Axes>"
      ]
     },
     "metadata": {
      "needs_background": "light"
     },
     "output_type": "display_data"
    }
   ],
   "source": [
    "data.isnull().sum().plot(kind='bar',alpha=1,figsize=(10,5))\n",
    "plt.title('NULL VALUE COUNT(COLUMN)')\n",
    "plt.xlabel('COLUMNS')\n",
    "plt.ylabel('VALUE COUNT')"
   ]
  },
  {
   "cell_type": "markdown",
   "id": "3b052907",
   "metadata": {},
   "source": [
    "### creating the new dataset with required columns"
   ]
  },
  {
   "cell_type": "code",
   "execution_count": 10,
   "id": "04117713",
   "metadata": {
    "collapsed": true
   },
   "outputs": [
    {
     "data": {
      "text/html": [
       "<div>\n",
       "<style scoped>\n",
       "    .dataframe tbody tr th:only-of-type {\n",
       "        vertical-align: middle;\n",
       "    }\n",
       "\n",
       "    .dataframe tbody tr th {\n",
       "        vertical-align: top;\n",
       "    }\n",
       "\n",
       "    .dataframe thead th {\n",
       "        text-align: right;\n",
       "    }\n",
       "</style>\n",
       "<table border=\"1\" class=\"dataframe\">\n",
       "  <thead>\n",
       "    <tr style=\"text-align: right;\">\n",
       "      <th></th>\n",
       "      <th>Created Date</th>\n",
       "      <th>Closed Date</th>\n",
       "      <th>Agency Name</th>\n",
       "      <th>Complaint Type</th>\n",
       "      <th>Descriptor</th>\n",
       "      <th>Location Type</th>\n",
       "      <th>Address Type</th>\n",
       "      <th>City</th>\n",
       "      <th>Facility Type</th>\n",
       "      <th>Status</th>\n",
       "      <th>...</th>\n",
       "      <th>School Code</th>\n",
       "      <th>School Phone Number</th>\n",
       "      <th>School Address</th>\n",
       "      <th>School City</th>\n",
       "      <th>School State</th>\n",
       "      <th>School Zip</th>\n",
       "      <th>School Not Found</th>\n",
       "      <th>Latitude</th>\n",
       "      <th>Longitude</th>\n",
       "      <th>Location</th>\n",
       "    </tr>\n",
       "  </thead>\n",
       "  <tbody>\n",
       "    <tr>\n",
       "      <th>0</th>\n",
       "      <td>2015-12-31 23:59:45</td>\n",
       "      <td>2016-01-01 00:55:15</td>\n",
       "      <td>New York City Police Department</td>\n",
       "      <td>Noise - Street/Sidewalk</td>\n",
       "      <td>Loud Music/Party</td>\n",
       "      <td>Street/Sidewalk</td>\n",
       "      <td>ADDRESS</td>\n",
       "      <td>NEW YORK</td>\n",
       "      <td>Precinct</td>\n",
       "      <td>Closed</td>\n",
       "      <td>...</td>\n",
       "      <td>Unspecified</td>\n",
       "      <td>Unspecified</td>\n",
       "      <td>Unspecified</td>\n",
       "      <td>Unspecified</td>\n",
       "      <td>Unspecified</td>\n",
       "      <td>Unspecified</td>\n",
       "      <td>N</td>\n",
       "      <td>40.865682</td>\n",
       "      <td>-73.923501</td>\n",
       "      <td>(40.86568153633767, -73.92350095571744)</td>\n",
       "    </tr>\n",
       "    <tr>\n",
       "      <th>1</th>\n",
       "      <td>2015-12-31 23:59:44</td>\n",
       "      <td>2016-01-01 01:26:57</td>\n",
       "      <td>New York City Police Department</td>\n",
       "      <td>Blocked Driveway</td>\n",
       "      <td>No Access</td>\n",
       "      <td>Street/Sidewalk</td>\n",
       "      <td>ADDRESS</td>\n",
       "      <td>ASTORIA</td>\n",
       "      <td>Precinct</td>\n",
       "      <td>Closed</td>\n",
       "      <td>...</td>\n",
       "      <td>Unspecified</td>\n",
       "      <td>Unspecified</td>\n",
       "      <td>Unspecified</td>\n",
       "      <td>Unspecified</td>\n",
       "      <td>Unspecified</td>\n",
       "      <td>Unspecified</td>\n",
       "      <td>N</td>\n",
       "      <td>40.775945</td>\n",
       "      <td>-73.915094</td>\n",
       "      <td>(40.775945312321085, -73.91509393898605)</td>\n",
       "    </tr>\n",
       "    <tr>\n",
       "      <th>2</th>\n",
       "      <td>2015-12-31 23:59:29</td>\n",
       "      <td>2016-01-01 04:51:03</td>\n",
       "      <td>New York City Police Department</td>\n",
       "      <td>Blocked Driveway</td>\n",
       "      <td>No Access</td>\n",
       "      <td>Street/Sidewalk</td>\n",
       "      <td>ADDRESS</td>\n",
       "      <td>BRONX</td>\n",
       "      <td>Precinct</td>\n",
       "      <td>Closed</td>\n",
       "      <td>...</td>\n",
       "      <td>Unspecified</td>\n",
       "      <td>Unspecified</td>\n",
       "      <td>Unspecified</td>\n",
       "      <td>Unspecified</td>\n",
       "      <td>Unspecified</td>\n",
       "      <td>Unspecified</td>\n",
       "      <td>N</td>\n",
       "      <td>40.870325</td>\n",
       "      <td>-73.888525</td>\n",
       "      <td>(40.870324522111424, -73.88852464418646)</td>\n",
       "    </tr>\n",
       "    <tr>\n",
       "      <th>3</th>\n",
       "      <td>2015-12-31 23:57:46</td>\n",
       "      <td>2016-01-01 07:43:13</td>\n",
       "      <td>New York City Police Department</td>\n",
       "      <td>Illegal Parking</td>\n",
       "      <td>Commercial Overnight Parking</td>\n",
       "      <td>Street/Sidewalk</td>\n",
       "      <td>ADDRESS</td>\n",
       "      <td>BRONX</td>\n",
       "      <td>Precinct</td>\n",
       "      <td>Closed</td>\n",
       "      <td>...</td>\n",
       "      <td>Unspecified</td>\n",
       "      <td>Unspecified</td>\n",
       "      <td>Unspecified</td>\n",
       "      <td>Unspecified</td>\n",
       "      <td>Unspecified</td>\n",
       "      <td>Unspecified</td>\n",
       "      <td>N</td>\n",
       "      <td>40.835994</td>\n",
       "      <td>-73.828379</td>\n",
       "      <td>(40.83599404683083, -73.82837939584206)</td>\n",
       "    </tr>\n",
       "    <tr>\n",
       "      <th>4</th>\n",
       "      <td>2015-12-31 23:56:58</td>\n",
       "      <td>2016-01-01 03:24:42</td>\n",
       "      <td>New York City Police Department</td>\n",
       "      <td>Illegal Parking</td>\n",
       "      <td>Blocked Sidewalk</td>\n",
       "      <td>Street/Sidewalk</td>\n",
       "      <td>ADDRESS</td>\n",
       "      <td>ELMHURST</td>\n",
       "      <td>Precinct</td>\n",
       "      <td>Closed</td>\n",
       "      <td>...</td>\n",
       "      <td>Unspecified</td>\n",
       "      <td>Unspecified</td>\n",
       "      <td>Unspecified</td>\n",
       "      <td>Unspecified</td>\n",
       "      <td>Unspecified</td>\n",
       "      <td>Unspecified</td>\n",
       "      <td>N</td>\n",
       "      <td>40.733060</td>\n",
       "      <td>-73.874170</td>\n",
       "      <td>(40.733059618956815, -73.87416975810375)</td>\n",
       "    </tr>\n",
       "  </tbody>\n",
       "</table>\n",
       "<p>5 rows × 32 columns</p>\n",
       "</div>"
      ],
      "text/plain": [
       "         Created Date         Closed Date                      Agency Name  \\\n",
       "0 2015-12-31 23:59:45 2016-01-01 00:55:15  New York City Police Department   \n",
       "1 2015-12-31 23:59:44 2016-01-01 01:26:57  New York City Police Department   \n",
       "2 2015-12-31 23:59:29 2016-01-01 04:51:03  New York City Police Department   \n",
       "3 2015-12-31 23:57:46 2016-01-01 07:43:13  New York City Police Department   \n",
       "4 2015-12-31 23:56:58 2016-01-01 03:24:42  New York City Police Department   \n",
       "\n",
       "            Complaint Type                    Descriptor    Location Type  \\\n",
       "0  Noise - Street/Sidewalk              Loud Music/Party  Street/Sidewalk   \n",
       "1         Blocked Driveway                     No Access  Street/Sidewalk   \n",
       "2         Blocked Driveway                     No Access  Street/Sidewalk   \n",
       "3          Illegal Parking  Commercial Overnight Parking  Street/Sidewalk   \n",
       "4          Illegal Parking              Blocked Sidewalk  Street/Sidewalk   \n",
       "\n",
       "  Address Type      City Facility Type  Status  ...  School Code  \\\n",
       "0      ADDRESS  NEW YORK      Precinct  Closed  ...  Unspecified   \n",
       "1      ADDRESS   ASTORIA      Precinct  Closed  ...  Unspecified   \n",
       "2      ADDRESS     BRONX      Precinct  Closed  ...  Unspecified   \n",
       "3      ADDRESS     BRONX      Precinct  Closed  ...  Unspecified   \n",
       "4      ADDRESS  ELMHURST      Precinct  Closed  ...  Unspecified   \n",
       "\n",
       "  School Phone Number School Address  School City School State   School Zip  \\\n",
       "0         Unspecified    Unspecified  Unspecified  Unspecified  Unspecified   \n",
       "1         Unspecified    Unspecified  Unspecified  Unspecified  Unspecified   \n",
       "2         Unspecified    Unspecified  Unspecified  Unspecified  Unspecified   \n",
       "3         Unspecified    Unspecified  Unspecified  Unspecified  Unspecified   \n",
       "4         Unspecified    Unspecified  Unspecified  Unspecified  Unspecified   \n",
       "\n",
       "   School Not Found   Latitude  Longitude  \\\n",
       "0                 N  40.865682 -73.923501   \n",
       "1                 N  40.775945 -73.915094   \n",
       "2                 N  40.870325 -73.888525   \n",
       "3                 N  40.835994 -73.828379   \n",
       "4                 N  40.733060 -73.874170   \n",
       "\n",
       "                                   Location  \n",
       "0   (40.86568153633767, -73.92350095571744)  \n",
       "1  (40.775945312321085, -73.91509393898605)  \n",
       "2  (40.870324522111424, -73.88852464418646)  \n",
       "3   (40.83599404683083, -73.82837939584206)  \n",
       "4  (40.733059618956815, -73.87416975810375)  \n",
       "\n",
       "[5 rows x 32 columns]"
      ]
     },
     "execution_count": 10,
     "metadata": {},
     "output_type": "execute_result"
    }
   ],
   "source": [
    "new_dataframe=data[['Created Date', 'Closed Date','Agency Name',\n",
    "       'Complaint Type','Descriptor','Location Type', 'Address Type',\n",
    "       'City', 'Facility Type', 'Status', 'Due Date',\n",
    "       'Resolution Description', 'Resolution Action Updated Date',\n",
    "       'Community Board', 'Borough', 'X Coordinate (State Plane)',\n",
    "       'Y Coordinate (State Plane)', 'Park Facility Name', 'Park Borough',\n",
    "       'School Name', 'School Number', 'School Region', 'School Code',\n",
    "       'School Phone Number', 'School Address', 'School City', 'School State',\n",
    "       'School Zip', 'School Not Found', 'Latitude', 'Longitude', 'Location']]\n",
    "new_dataframe.head()"
   ]
  },
  {
   "cell_type": "markdown",
   "id": "c8133dfc",
   "metadata": {},
   "source": [
    "### checking out the columns that can be prove not helpful in further analysis"
   ]
  },
  {
   "cell_type": "code",
   "execution_count": 11,
   "id": "f12b3009",
   "metadata": {
    "collapsed": true
   },
   "outputs": [
    {
     "data": {
      "text/plain": [
       "array(['Unspecified', nan], dtype=object)"
      ]
     },
     "execution_count": 11,
     "metadata": {},
     "output_type": "execute_result"
    }
   ],
   "source": [
    "data['School Code'].unique()"
   ]
  },
  {
   "cell_type": "code",
   "execution_count": 12,
   "id": "09ba9569",
   "metadata": {
    "collapsed": true
   },
   "outputs": [
    {
     "data": {
      "text/plain": [
       "array(['Unspecified', '7182176034'], dtype=object)"
      ]
     },
     "execution_count": 12,
     "metadata": {},
     "output_type": "execute_result"
    }
   ],
   "source": [
    "data['School Phone Number'].unique()"
   ]
  },
  {
   "cell_type": "code",
   "execution_count": 13,
   "id": "2e92096a",
   "metadata": {
    "collapsed": true
   },
   "outputs": [
    {
     "data": {
      "text/plain": [
       "array(['Unspecified', 'Grand Central Parkway, near the soccer field'],\n",
       "      dtype=object)"
      ]
     },
     "execution_count": 13,
     "metadata": {},
     "output_type": "execute_result"
    }
   ],
   "source": [
    "data['School Address'].unique()"
   ]
  },
  {
   "cell_type": "code",
   "execution_count": 14,
   "id": "7bf521d4",
   "metadata": {
    "collapsed": true
   },
   "outputs": [
    {
     "data": {
      "text/plain": [
       "Unspecified                                     364557\n",
       "Grand Central Parkway, near the soccer field         1\n",
       "Name: School Address, dtype: int64"
      ]
     },
     "execution_count": 14,
     "metadata": {},
     "output_type": "execute_result"
    }
   ],
   "source": [
    "data['School Address'].value_counts()"
   ]
  },
  {
   "cell_type": "code",
   "execution_count": 15,
   "id": "3c6bc3e6",
   "metadata": {
    "collapsed": true
   },
   "outputs": [
    {
     "data": {
      "text/plain": [
       "array(['Unspecified', 'QUEENS'], dtype=object)"
      ]
     },
     "execution_count": 15,
     "metadata": {},
     "output_type": "execute_result"
    }
   ],
   "source": [
    "data['School City'].unique()"
   ]
  },
  {
   "cell_type": "code",
   "execution_count": 16,
   "id": "23949dc6",
   "metadata": {
    "collapsed": true
   },
   "outputs": [
    {
     "data": {
      "text/plain": [
       "Unspecified    364557\n",
       "QUEENS              1\n",
       "Name: School City, dtype: int64"
      ]
     },
     "execution_count": 16,
     "metadata": {},
     "output_type": "execute_result"
    }
   ],
   "source": [
    "data['School City'].value_counts()"
   ]
  },
  {
   "cell_type": "code",
   "execution_count": 17,
   "id": "fd2c9371",
   "metadata": {
    "collapsed": true
   },
   "outputs": [
    {
     "data": {
      "text/plain": [
       "array(['Unspecified', 'NY'], dtype=object)"
      ]
     },
     "execution_count": 17,
     "metadata": {},
     "output_type": "execute_result"
    }
   ],
   "source": [
    "data['School State'].unique()"
   ]
  },
  {
   "cell_type": "code",
   "execution_count": 18,
   "id": "0be11ec9",
   "metadata": {
    "collapsed": true
   },
   "outputs": [
    {
     "data": {
      "text/plain": [
       "array(['Unspecified', nan], dtype=object)"
      ]
     },
     "execution_count": 18,
     "metadata": {},
     "output_type": "execute_result"
    }
   ],
   "source": [
    "data['School Region'].unique()"
   ]
  },
  {
   "cell_type": "code",
   "execution_count": 19,
   "id": "07756310",
   "metadata": {
    "collapsed": true
   },
   "outputs": [
    {
     "data": {
      "text/plain": [
       "array(['N'], dtype=object)"
      ]
     },
     "execution_count": 19,
     "metadata": {},
     "output_type": "execute_result"
    }
   ],
   "source": [
    "data['School Not Found'].unique()"
   ]
  },
  {
   "cell_type": "code",
   "execution_count": 20,
   "id": "0e3a020f",
   "metadata": {
    "collapsed": true
   },
   "outputs": [
    {
     "data": {
      "text/plain": [
       "array(['ADDRESS', nan, 'INTERSECTION', 'LATLONG', 'BLOCKFACE',\n",
       "       'PLACENAME'], dtype=object)"
      ]
     },
     "execution_count": 20,
     "metadata": {},
     "output_type": "execute_result"
    }
   ],
   "source": [
    "new_dataframe['Address Type'].unique()"
   ]
  },
  {
   "cell_type": "code",
   "execution_count": 21,
   "id": "0cac8cf7",
   "metadata": {
    "collapsed": true
   },
   "outputs": [
    {
     "data": {
      "text/plain": [
       "ADDRESS         292699\n",
       "INTERSECTION     50514\n",
       "BLOCKFACE        13786\n",
       "LATLONG           3931\n",
       "PLACENAME          376\n",
       "Name: Address Type, dtype: int64"
      ]
     },
     "execution_count": 21,
     "metadata": {},
     "output_type": "execute_result"
    }
   ],
   "source": [
    "new_dataframe['Address Type'].value_counts()"
   ]
  },
  {
   "cell_type": "code",
   "execution_count": 22,
   "id": "e2096790",
   "metadata": {
    "collapsed": true
   },
   "outputs": [
    {
     "data": {
      "text/plain": [
       "array(['Unspecified', 'Alley Pond Park - Nature Center'], dtype=object)"
      ]
     },
     "execution_count": 22,
     "metadata": {},
     "output_type": "execute_result"
    }
   ],
   "source": [
    "new_dataframe['Park Facility Name'].unique()"
   ]
  },
  {
   "cell_type": "code",
   "execution_count": 23,
   "id": "4e23b195",
   "metadata": {
    "collapsed": true
   },
   "outputs": [
    {
     "data": {
      "text/plain": [
       "Unspecified                        364557\n",
       "Alley Pond Park - Nature Center         1\n",
       "Name: Park Facility Name, dtype: int64"
      ]
     },
     "execution_count": 23,
     "metadata": {},
     "output_type": "execute_result"
    }
   ],
   "source": [
    "new_dataframe['Park Facility Name'].value_counts()"
   ]
  },
  {
   "cell_type": "markdown",
   "id": "600dd645",
   "metadata": {},
   "source": [
    "### the below mentioned columns weren,t giving the useful information statistically, most of them were containg same value"
   ]
  },
  {
   "cell_type": "code",
   "execution_count": 24,
   "id": "46da036f",
   "metadata": {},
   "outputs": [],
   "source": [
    "new_dataset=new_dataframe.drop(columns=['School Name', 'School Number', 'School Region', 'School Code',\n",
    "       'School Phone Number', 'School Address', 'School City', 'School State',\n",
    "       'School Zip', 'School Not Found','Park Facility Name'],axis=1)"
   ]
  },
  {
   "cell_type": "code",
   "execution_count": 25,
   "id": "5bfca70a",
   "metadata": {
    "collapsed": true
   },
   "outputs": [
    {
     "data": {
      "text/plain": [
       "(364558, 21)"
      ]
     },
     "execution_count": 25,
     "metadata": {},
     "output_type": "execute_result"
    }
   ],
   "source": [
    "new_dataset.shape"
   ]
  },
  {
   "cell_type": "code",
   "execution_count": 26,
   "id": "598c0d0c",
   "metadata": {
    "collapsed": true
   },
   "outputs": [
    {
     "data": {
      "text/html": [
       "<div>\n",
       "<style scoped>\n",
       "    .dataframe tbody tr th:only-of-type {\n",
       "        vertical-align: middle;\n",
       "    }\n",
       "\n",
       "    .dataframe tbody tr th {\n",
       "        vertical-align: top;\n",
       "    }\n",
       "\n",
       "    .dataframe thead th {\n",
       "        text-align: right;\n",
       "    }\n",
       "</style>\n",
       "<table border=\"1\" class=\"dataframe\">\n",
       "  <thead>\n",
       "    <tr style=\"text-align: right;\">\n",
       "      <th></th>\n",
       "      <th>Created Date</th>\n",
       "      <th>Closed Date</th>\n",
       "      <th>Agency Name</th>\n",
       "      <th>Complaint Type</th>\n",
       "      <th>Descriptor</th>\n",
       "      <th>Location Type</th>\n",
       "      <th>Address Type</th>\n",
       "      <th>City</th>\n",
       "      <th>Facility Type</th>\n",
       "      <th>Status</th>\n",
       "      <th>...</th>\n",
       "      <th>Resolution Description</th>\n",
       "      <th>Resolution Action Updated Date</th>\n",
       "      <th>Community Board</th>\n",
       "      <th>Borough</th>\n",
       "      <th>X Coordinate (State Plane)</th>\n",
       "      <th>Y Coordinate (State Plane)</th>\n",
       "      <th>Park Borough</th>\n",
       "      <th>Latitude</th>\n",
       "      <th>Longitude</th>\n",
       "      <th>Location</th>\n",
       "    </tr>\n",
       "  </thead>\n",
       "  <tbody>\n",
       "    <tr>\n",
       "      <th>0</th>\n",
       "      <td>2015-12-31 23:59:45</td>\n",
       "      <td>2016-01-01 00:55:15</td>\n",
       "      <td>New York City Police Department</td>\n",
       "      <td>Noise - Street/Sidewalk</td>\n",
       "      <td>Loud Music/Party</td>\n",
       "      <td>Street/Sidewalk</td>\n",
       "      <td>ADDRESS</td>\n",
       "      <td>NEW YORK</td>\n",
       "      <td>Precinct</td>\n",
       "      <td>Closed</td>\n",
       "      <td>...</td>\n",
       "      <td>The Police Department responded and upon arriv...</td>\n",
       "      <td>01/01/2016 12:55:15 AM</td>\n",
       "      <td>12 MANHATTAN</td>\n",
       "      <td>MANHATTAN</td>\n",
       "      <td>1005409.0</td>\n",
       "      <td>254678.0</td>\n",
       "      <td>MANHATTAN</td>\n",
       "      <td>40.865682</td>\n",
       "      <td>-73.923501</td>\n",
       "      <td>(40.86568153633767, -73.92350095571744)</td>\n",
       "    </tr>\n",
       "    <tr>\n",
       "      <th>1</th>\n",
       "      <td>2015-12-31 23:59:44</td>\n",
       "      <td>2016-01-01 01:26:57</td>\n",
       "      <td>New York City Police Department</td>\n",
       "      <td>Blocked Driveway</td>\n",
       "      <td>No Access</td>\n",
       "      <td>Street/Sidewalk</td>\n",
       "      <td>ADDRESS</td>\n",
       "      <td>ASTORIA</td>\n",
       "      <td>Precinct</td>\n",
       "      <td>Closed</td>\n",
       "      <td>...</td>\n",
       "      <td>The Police Department responded to the complai...</td>\n",
       "      <td>01/01/2016 01:26:57 AM</td>\n",
       "      <td>01 QUEENS</td>\n",
       "      <td>QUEENS</td>\n",
       "      <td>1007766.0</td>\n",
       "      <td>221986.0</td>\n",
       "      <td>QUEENS</td>\n",
       "      <td>40.775945</td>\n",
       "      <td>-73.915094</td>\n",
       "      <td>(40.775945312321085, -73.91509393898605)</td>\n",
       "    </tr>\n",
       "    <tr>\n",
       "      <th>2</th>\n",
       "      <td>2015-12-31 23:59:29</td>\n",
       "      <td>2016-01-01 04:51:03</td>\n",
       "      <td>New York City Police Department</td>\n",
       "      <td>Blocked Driveway</td>\n",
       "      <td>No Access</td>\n",
       "      <td>Street/Sidewalk</td>\n",
       "      <td>ADDRESS</td>\n",
       "      <td>BRONX</td>\n",
       "      <td>Precinct</td>\n",
       "      <td>Closed</td>\n",
       "      <td>...</td>\n",
       "      <td>The Police Department responded and upon arriv...</td>\n",
       "      <td>01/01/2016 04:51:03 AM</td>\n",
       "      <td>07 BRONX</td>\n",
       "      <td>BRONX</td>\n",
       "      <td>1015081.0</td>\n",
       "      <td>256380.0</td>\n",
       "      <td>BRONX</td>\n",
       "      <td>40.870325</td>\n",
       "      <td>-73.888525</td>\n",
       "      <td>(40.870324522111424, -73.88852464418646)</td>\n",
       "    </tr>\n",
       "    <tr>\n",
       "      <th>3</th>\n",
       "      <td>2015-12-31 23:57:46</td>\n",
       "      <td>2016-01-01 07:43:13</td>\n",
       "      <td>New York City Police Department</td>\n",
       "      <td>Illegal Parking</td>\n",
       "      <td>Commercial Overnight Parking</td>\n",
       "      <td>Street/Sidewalk</td>\n",
       "      <td>ADDRESS</td>\n",
       "      <td>BRONX</td>\n",
       "      <td>Precinct</td>\n",
       "      <td>Closed</td>\n",
       "      <td>...</td>\n",
       "      <td>The Police Department responded to the complai...</td>\n",
       "      <td>01/01/2016 07:43:13 AM</td>\n",
       "      <td>10 BRONX</td>\n",
       "      <td>BRONX</td>\n",
       "      <td>1031740.0</td>\n",
       "      <td>243899.0</td>\n",
       "      <td>BRONX</td>\n",
       "      <td>40.835994</td>\n",
       "      <td>-73.828379</td>\n",
       "      <td>(40.83599404683083, -73.82837939584206)</td>\n",
       "    </tr>\n",
       "    <tr>\n",
       "      <th>4</th>\n",
       "      <td>2015-12-31 23:56:58</td>\n",
       "      <td>2016-01-01 03:24:42</td>\n",
       "      <td>New York City Police Department</td>\n",
       "      <td>Illegal Parking</td>\n",
       "      <td>Blocked Sidewalk</td>\n",
       "      <td>Street/Sidewalk</td>\n",
       "      <td>ADDRESS</td>\n",
       "      <td>ELMHURST</td>\n",
       "      <td>Precinct</td>\n",
       "      <td>Closed</td>\n",
       "      <td>...</td>\n",
       "      <td>The Police Department responded and upon arriv...</td>\n",
       "      <td>01/01/2016 03:24:42 AM</td>\n",
       "      <td>04 QUEENS</td>\n",
       "      <td>QUEENS</td>\n",
       "      <td>1019123.0</td>\n",
       "      <td>206375.0</td>\n",
       "      <td>QUEENS</td>\n",
       "      <td>40.733060</td>\n",
       "      <td>-73.874170</td>\n",
       "      <td>(40.733059618956815, -73.87416975810375)</td>\n",
       "    </tr>\n",
       "  </tbody>\n",
       "</table>\n",
       "<p>5 rows × 21 columns</p>\n",
       "</div>"
      ],
      "text/plain": [
       "         Created Date         Closed Date                      Agency Name  \\\n",
       "0 2015-12-31 23:59:45 2016-01-01 00:55:15  New York City Police Department   \n",
       "1 2015-12-31 23:59:44 2016-01-01 01:26:57  New York City Police Department   \n",
       "2 2015-12-31 23:59:29 2016-01-01 04:51:03  New York City Police Department   \n",
       "3 2015-12-31 23:57:46 2016-01-01 07:43:13  New York City Police Department   \n",
       "4 2015-12-31 23:56:58 2016-01-01 03:24:42  New York City Police Department   \n",
       "\n",
       "            Complaint Type                    Descriptor    Location Type  \\\n",
       "0  Noise - Street/Sidewalk              Loud Music/Party  Street/Sidewalk   \n",
       "1         Blocked Driveway                     No Access  Street/Sidewalk   \n",
       "2         Blocked Driveway                     No Access  Street/Sidewalk   \n",
       "3          Illegal Parking  Commercial Overnight Parking  Street/Sidewalk   \n",
       "4          Illegal Parking              Blocked Sidewalk  Street/Sidewalk   \n",
       "\n",
       "  Address Type      City Facility Type  Status  ...  \\\n",
       "0      ADDRESS  NEW YORK      Precinct  Closed  ...   \n",
       "1      ADDRESS   ASTORIA      Precinct  Closed  ...   \n",
       "2      ADDRESS     BRONX      Precinct  Closed  ...   \n",
       "3      ADDRESS     BRONX      Precinct  Closed  ...   \n",
       "4      ADDRESS  ELMHURST      Precinct  Closed  ...   \n",
       "\n",
       "                              Resolution Description  \\\n",
       "0  The Police Department responded and upon arriv...   \n",
       "1  The Police Department responded to the complai...   \n",
       "2  The Police Department responded and upon arriv...   \n",
       "3  The Police Department responded to the complai...   \n",
       "4  The Police Department responded and upon arriv...   \n",
       "\n",
       "  Resolution Action Updated Date Community Board    Borough  \\\n",
       "0         01/01/2016 12:55:15 AM    12 MANHATTAN  MANHATTAN   \n",
       "1         01/01/2016 01:26:57 AM       01 QUEENS     QUEENS   \n",
       "2         01/01/2016 04:51:03 AM        07 BRONX      BRONX   \n",
       "3         01/01/2016 07:43:13 AM        10 BRONX      BRONX   \n",
       "4         01/01/2016 03:24:42 AM       04 QUEENS     QUEENS   \n",
       "\n",
       "  X Coordinate (State Plane)  Y Coordinate (State Plane)  Park Borough  \\\n",
       "0                  1005409.0                    254678.0     MANHATTAN   \n",
       "1                  1007766.0                    221986.0        QUEENS   \n",
       "2                  1015081.0                    256380.0         BRONX   \n",
       "3                  1031740.0                    243899.0         BRONX   \n",
       "4                  1019123.0                    206375.0        QUEENS   \n",
       "\n",
       "    Latitude  Longitude                                  Location  \n",
       "0  40.865682 -73.923501   (40.86568153633767, -73.92350095571744)  \n",
       "1  40.775945 -73.915094  (40.775945312321085, -73.91509393898605)  \n",
       "2  40.870325 -73.888525  (40.870324522111424, -73.88852464418646)  \n",
       "3  40.835994 -73.828379   (40.83599404683083, -73.82837939584206)  \n",
       "4  40.733060 -73.874170  (40.733059618956815, -73.87416975810375)  \n",
       "\n",
       "[5 rows x 21 columns]"
      ]
     },
     "execution_count": 26,
     "metadata": {},
     "output_type": "execute_result"
    }
   ],
   "source": [
    "new_dataset.head()"
   ]
  },
  {
   "cell_type": "code",
   "execution_count": 27,
   "id": "47494b9a",
   "metadata": {
    "collapsed": true
   },
   "outputs": [
    {
     "name": "stdout",
     "output_type": "stream",
     "text": [
      "<class 'pandas.core.frame.DataFrame'>\n",
      "RangeIndex: 364558 entries, 0 to 364557\n",
      "Data columns (total 21 columns):\n",
      " #   Column                          Non-Null Count   Dtype         \n",
      "---  ------                          --------------   -----         \n",
      " 0   Created Date                    364558 non-null  datetime64[ns]\n",
      " 1   Closed Date                     362177 non-null  datetime64[ns]\n",
      " 2   Agency Name                     364558 non-null  object        \n",
      " 3   Complaint Type                  364558 non-null  object        \n",
      " 4   Descriptor                      358057 non-null  object        \n",
      " 5   Location Type                   364425 non-null  object        \n",
      " 6   Address Type                    361306 non-null  object        \n",
      " 7   City                            361561 non-null  object        \n",
      " 8   Facility Type                   362169 non-null  object        \n",
      " 9   Status                          364558 non-null  object        \n",
      " 10  Due Date                        364555 non-null  object        \n",
      " 11  Resolution Description          364558 non-null  object        \n",
      " 12  Resolution Action Updated Date  362156 non-null  object        \n",
      " 13  Community Board                 364558 non-null  object        \n",
      " 14  Borough                         364558 non-null  object        \n",
      " 15  X Coordinate (State Plane)      360528 non-null  float64       \n",
      " 16  Y Coordinate (State Plane)      360528 non-null  float64       \n",
      " 17  Park Borough                    364558 non-null  object        \n",
      " 18  Latitude                        360528 non-null  float64       \n",
      " 19  Longitude                       360528 non-null  float64       \n",
      " 20  Location                        360528 non-null  object        \n",
      "dtypes: datetime64[ns](2), float64(4), object(15)\n",
      "memory usage: 58.4+ MB\n"
     ]
    }
   ],
   "source": [
    "new_dataset.info()"
   ]
  },
  {
   "cell_type": "code",
   "execution_count": 28,
   "id": "4ed151b3",
   "metadata": {
    "collapsed": true
   },
   "outputs": [
    {
     "data": {
      "text/plain": [
       "Created Date                         0\n",
       "Closed Date                       2381\n",
       "Agency Name                          0\n",
       "Complaint Type                       0\n",
       "Descriptor                        6501\n",
       "Location Type                      133\n",
       "Address Type                      3252\n",
       "City                              2997\n",
       "Facility Type                     2389\n",
       "Status                               0\n",
       "Due Date                             3\n",
       "Resolution Description               0\n",
       "Resolution Action Updated Date    2402\n",
       "Community Board                      0\n",
       "Borough                              0\n",
       "X Coordinate (State Plane)        4030\n",
       "Y Coordinate (State Plane)        4030\n",
       "Park Borough                         0\n",
       "Latitude                          4030\n",
       "Longitude                         4030\n",
       "Location                          4030\n",
       "dtype: int64"
      ]
     },
     "execution_count": 28,
     "metadata": {},
     "output_type": "execute_result"
    }
   ],
   "source": [
    "new_dataset.isnull().sum()"
   ]
  },
  {
   "cell_type": "markdown",
   "id": "15b5b867",
   "metadata": {},
   "source": [
    "### removing the null values from the closed date"
   ]
  },
  {
   "cell_type": "code",
   "execution_count": 29,
   "id": "1eefd4dd",
   "metadata": {},
   "outputs": [],
   "source": [
    "new_dataset=new_dataset[new_dataset['Closed Date'].notnull()]"
   ]
  },
  {
   "cell_type": "code",
   "execution_count": 30,
   "id": "c834203d",
   "metadata": {
    "collapsed": true
   },
   "outputs": [
    {
     "data": {
      "text/plain": [
       "Created Date                         0\n",
       "Closed Date                          0\n",
       "Agency Name                          0\n",
       "Complaint Type                       0\n",
       "Descriptor                        6496\n",
       "Location Type                      130\n",
       "Address Type                       929\n",
       "City                               674\n",
       "Facility Type                       18\n",
       "Status                               0\n",
       "Due Date                             1\n",
       "Resolution Description               0\n",
       "Resolution Action Updated Date      39\n",
       "Community Board                      0\n",
       "Borough                              0\n",
       "X Coordinate (State Plane)        1707\n",
       "Y Coordinate (State Plane)        1707\n",
       "Park Borough                         0\n",
       "Latitude                          1707\n",
       "Longitude                         1707\n",
       "Location                          1707\n",
       "dtype: int64"
      ]
     },
     "execution_count": 30,
     "metadata": {},
     "output_type": "execute_result"
    }
   ],
   "source": [
    "new_dataset.isnull().sum()"
   ]
  },
  {
   "cell_type": "code",
   "execution_count": 31,
   "id": "80dc8479",
   "metadata": {
    "collapsed": true
   },
   "outputs": [
    {
     "name": "stdout",
     "output_type": "stream",
     "text": [
      "<class 'pandas.core.frame.DataFrame'>\n",
      "Int64Index: 362177 entries, 0 to 364557\n",
      "Data columns (total 21 columns):\n",
      " #   Column                          Non-Null Count   Dtype         \n",
      "---  ------                          --------------   -----         \n",
      " 0   Created Date                    362177 non-null  datetime64[ns]\n",
      " 1   Closed Date                     362177 non-null  datetime64[ns]\n",
      " 2   Agency Name                     362177 non-null  object        \n",
      " 3   Complaint Type                  362177 non-null  object        \n",
      " 4   Descriptor                      355681 non-null  object        \n",
      " 5   Location Type                   362047 non-null  object        \n",
      " 6   Address Type                    361248 non-null  object        \n",
      " 7   City                            361503 non-null  object        \n",
      " 8   Facility Type                   362159 non-null  object        \n",
      " 9   Status                          362177 non-null  object        \n",
      " 10  Due Date                        362176 non-null  object        \n",
      " 11  Resolution Description          362177 non-null  object        \n",
      " 12  Resolution Action Updated Date  362138 non-null  object        \n",
      " 13  Community Board                 362177 non-null  object        \n",
      " 14  Borough                         362177 non-null  object        \n",
      " 15  X Coordinate (State Plane)      360470 non-null  float64       \n",
      " 16  Y Coordinate (State Plane)      360470 non-null  float64       \n",
      " 17  Park Borough                    362177 non-null  object        \n",
      " 18  Latitude                        360470 non-null  float64       \n",
      " 19  Longitude                       360470 non-null  float64       \n",
      " 20  Location                        360470 non-null  object        \n",
      "dtypes: datetime64[ns](2), float64(4), object(15)\n",
      "memory usage: 60.8+ MB\n"
     ]
    }
   ],
   "source": [
    "new_dataset.info()"
   ]
  },
  {
   "cell_type": "markdown",
   "id": "70b25b05",
   "metadata": {},
   "source": [
    "#### converting the columns ‘Created Date’ and Closed Date’ to datetime datatype and creating a new column ‘Request_Closing_Time’ as the time elapsed between request creation and request closing"
   ]
  },
  {
   "cell_type": "code",
   "execution_count": 32,
   "id": "bfa69abd",
   "metadata": {},
   "outputs": [],
   "source": [
    "new_dataset['Request_Closing_Time']=new_dataset['Closed Date']-new_dataset['Created Date']"
   ]
  },
  {
   "cell_type": "code",
   "execution_count": 33,
   "id": "70c82147",
   "metadata": {
    "collapsed": true
   },
   "outputs": [
    {
     "data": {
      "text/html": [
       "<div>\n",
       "<style scoped>\n",
       "    .dataframe tbody tr th:only-of-type {\n",
       "        vertical-align: middle;\n",
       "    }\n",
       "\n",
       "    .dataframe tbody tr th {\n",
       "        vertical-align: top;\n",
       "    }\n",
       "\n",
       "    .dataframe thead th {\n",
       "        text-align: right;\n",
       "    }\n",
       "</style>\n",
       "<table border=\"1\" class=\"dataframe\">\n",
       "  <thead>\n",
       "    <tr style=\"text-align: right;\">\n",
       "      <th></th>\n",
       "      <th>Created Date</th>\n",
       "      <th>Closed Date</th>\n",
       "      <th>Agency Name</th>\n",
       "      <th>Complaint Type</th>\n",
       "      <th>Descriptor</th>\n",
       "      <th>Location Type</th>\n",
       "      <th>Address Type</th>\n",
       "      <th>City</th>\n",
       "      <th>Facility Type</th>\n",
       "      <th>Status</th>\n",
       "      <th>...</th>\n",
       "      <th>Resolution Action Updated Date</th>\n",
       "      <th>Community Board</th>\n",
       "      <th>Borough</th>\n",
       "      <th>X Coordinate (State Plane)</th>\n",
       "      <th>Y Coordinate (State Plane)</th>\n",
       "      <th>Park Borough</th>\n",
       "      <th>Latitude</th>\n",
       "      <th>Longitude</th>\n",
       "      <th>Location</th>\n",
       "      <th>Request_Closing_Time</th>\n",
       "    </tr>\n",
       "  </thead>\n",
       "  <tbody>\n",
       "    <tr>\n",
       "      <th>0</th>\n",
       "      <td>2015-12-31 23:59:45</td>\n",
       "      <td>2016-01-01 00:55:15</td>\n",
       "      <td>New York City Police Department</td>\n",
       "      <td>Noise - Street/Sidewalk</td>\n",
       "      <td>Loud Music/Party</td>\n",
       "      <td>Street/Sidewalk</td>\n",
       "      <td>ADDRESS</td>\n",
       "      <td>NEW YORK</td>\n",
       "      <td>Precinct</td>\n",
       "      <td>Closed</td>\n",
       "      <td>...</td>\n",
       "      <td>01/01/2016 12:55:15 AM</td>\n",
       "      <td>12 MANHATTAN</td>\n",
       "      <td>MANHATTAN</td>\n",
       "      <td>1005409.0</td>\n",
       "      <td>254678.0</td>\n",
       "      <td>MANHATTAN</td>\n",
       "      <td>40.865682</td>\n",
       "      <td>-73.923501</td>\n",
       "      <td>(40.86568153633767, -73.92350095571744)</td>\n",
       "      <td>0 days 00:55:30</td>\n",
       "    </tr>\n",
       "    <tr>\n",
       "      <th>1</th>\n",
       "      <td>2015-12-31 23:59:44</td>\n",
       "      <td>2016-01-01 01:26:57</td>\n",
       "      <td>New York City Police Department</td>\n",
       "      <td>Blocked Driveway</td>\n",
       "      <td>No Access</td>\n",
       "      <td>Street/Sidewalk</td>\n",
       "      <td>ADDRESS</td>\n",
       "      <td>ASTORIA</td>\n",
       "      <td>Precinct</td>\n",
       "      <td>Closed</td>\n",
       "      <td>...</td>\n",
       "      <td>01/01/2016 01:26:57 AM</td>\n",
       "      <td>01 QUEENS</td>\n",
       "      <td>QUEENS</td>\n",
       "      <td>1007766.0</td>\n",
       "      <td>221986.0</td>\n",
       "      <td>QUEENS</td>\n",
       "      <td>40.775945</td>\n",
       "      <td>-73.915094</td>\n",
       "      <td>(40.775945312321085, -73.91509393898605)</td>\n",
       "      <td>0 days 01:27:13</td>\n",
       "    </tr>\n",
       "    <tr>\n",
       "      <th>2</th>\n",
       "      <td>2015-12-31 23:59:29</td>\n",
       "      <td>2016-01-01 04:51:03</td>\n",
       "      <td>New York City Police Department</td>\n",
       "      <td>Blocked Driveway</td>\n",
       "      <td>No Access</td>\n",
       "      <td>Street/Sidewalk</td>\n",
       "      <td>ADDRESS</td>\n",
       "      <td>BRONX</td>\n",
       "      <td>Precinct</td>\n",
       "      <td>Closed</td>\n",
       "      <td>...</td>\n",
       "      <td>01/01/2016 04:51:03 AM</td>\n",
       "      <td>07 BRONX</td>\n",
       "      <td>BRONX</td>\n",
       "      <td>1015081.0</td>\n",
       "      <td>256380.0</td>\n",
       "      <td>BRONX</td>\n",
       "      <td>40.870325</td>\n",
       "      <td>-73.888525</td>\n",
       "      <td>(40.870324522111424, -73.88852464418646)</td>\n",
       "      <td>0 days 04:51:34</td>\n",
       "    </tr>\n",
       "    <tr>\n",
       "      <th>3</th>\n",
       "      <td>2015-12-31 23:57:46</td>\n",
       "      <td>2016-01-01 07:43:13</td>\n",
       "      <td>New York City Police Department</td>\n",
       "      <td>Illegal Parking</td>\n",
       "      <td>Commercial Overnight Parking</td>\n",
       "      <td>Street/Sidewalk</td>\n",
       "      <td>ADDRESS</td>\n",
       "      <td>BRONX</td>\n",
       "      <td>Precinct</td>\n",
       "      <td>Closed</td>\n",
       "      <td>...</td>\n",
       "      <td>01/01/2016 07:43:13 AM</td>\n",
       "      <td>10 BRONX</td>\n",
       "      <td>BRONX</td>\n",
       "      <td>1031740.0</td>\n",
       "      <td>243899.0</td>\n",
       "      <td>BRONX</td>\n",
       "      <td>40.835994</td>\n",
       "      <td>-73.828379</td>\n",
       "      <td>(40.83599404683083, -73.82837939584206)</td>\n",
       "      <td>0 days 07:45:27</td>\n",
       "    </tr>\n",
       "    <tr>\n",
       "      <th>4</th>\n",
       "      <td>2015-12-31 23:56:58</td>\n",
       "      <td>2016-01-01 03:24:42</td>\n",
       "      <td>New York City Police Department</td>\n",
       "      <td>Illegal Parking</td>\n",
       "      <td>Blocked Sidewalk</td>\n",
       "      <td>Street/Sidewalk</td>\n",
       "      <td>ADDRESS</td>\n",
       "      <td>ELMHURST</td>\n",
       "      <td>Precinct</td>\n",
       "      <td>Closed</td>\n",
       "      <td>...</td>\n",
       "      <td>01/01/2016 03:24:42 AM</td>\n",
       "      <td>04 QUEENS</td>\n",
       "      <td>QUEENS</td>\n",
       "      <td>1019123.0</td>\n",
       "      <td>206375.0</td>\n",
       "      <td>QUEENS</td>\n",
       "      <td>40.733060</td>\n",
       "      <td>-73.874170</td>\n",
       "      <td>(40.733059618956815, -73.87416975810375)</td>\n",
       "      <td>0 days 03:27:44</td>\n",
       "    </tr>\n",
       "  </tbody>\n",
       "</table>\n",
       "<p>5 rows × 22 columns</p>\n",
       "</div>"
      ],
      "text/plain": [
       "         Created Date         Closed Date                      Agency Name  \\\n",
       "0 2015-12-31 23:59:45 2016-01-01 00:55:15  New York City Police Department   \n",
       "1 2015-12-31 23:59:44 2016-01-01 01:26:57  New York City Police Department   \n",
       "2 2015-12-31 23:59:29 2016-01-01 04:51:03  New York City Police Department   \n",
       "3 2015-12-31 23:57:46 2016-01-01 07:43:13  New York City Police Department   \n",
       "4 2015-12-31 23:56:58 2016-01-01 03:24:42  New York City Police Department   \n",
       "\n",
       "            Complaint Type                    Descriptor    Location Type  \\\n",
       "0  Noise - Street/Sidewalk              Loud Music/Party  Street/Sidewalk   \n",
       "1         Blocked Driveway                     No Access  Street/Sidewalk   \n",
       "2         Blocked Driveway                     No Access  Street/Sidewalk   \n",
       "3          Illegal Parking  Commercial Overnight Parking  Street/Sidewalk   \n",
       "4          Illegal Parking              Blocked Sidewalk  Street/Sidewalk   \n",
       "\n",
       "  Address Type      City Facility Type  Status  ...  \\\n",
       "0      ADDRESS  NEW YORK      Precinct  Closed  ...   \n",
       "1      ADDRESS   ASTORIA      Precinct  Closed  ...   \n",
       "2      ADDRESS     BRONX      Precinct  Closed  ...   \n",
       "3      ADDRESS     BRONX      Precinct  Closed  ...   \n",
       "4      ADDRESS  ELMHURST      Precinct  Closed  ...   \n",
       "\n",
       "  Resolution Action Updated Date Community Board    Borough  \\\n",
       "0         01/01/2016 12:55:15 AM    12 MANHATTAN  MANHATTAN   \n",
       "1         01/01/2016 01:26:57 AM       01 QUEENS     QUEENS   \n",
       "2         01/01/2016 04:51:03 AM        07 BRONX      BRONX   \n",
       "3         01/01/2016 07:43:13 AM        10 BRONX      BRONX   \n",
       "4         01/01/2016 03:24:42 AM       04 QUEENS     QUEENS   \n",
       "\n",
       "  X Coordinate (State Plane) Y Coordinate (State Plane)  Park Borough  \\\n",
       "0                  1005409.0                   254678.0     MANHATTAN   \n",
       "1                  1007766.0                   221986.0        QUEENS   \n",
       "2                  1015081.0                   256380.0         BRONX   \n",
       "3                  1031740.0                   243899.0         BRONX   \n",
       "4                  1019123.0                   206375.0        QUEENS   \n",
       "\n",
       "    Latitude  Longitude                                  Location  \\\n",
       "0  40.865682 -73.923501   (40.86568153633767, -73.92350095571744)   \n",
       "1  40.775945 -73.915094  (40.775945312321085, -73.91509393898605)   \n",
       "2  40.870325 -73.888525  (40.870324522111424, -73.88852464418646)   \n",
       "3  40.835994 -73.828379   (40.83599404683083, -73.82837939584206)   \n",
       "4  40.733060 -73.874170  (40.733059618956815, -73.87416975810375)   \n",
       "\n",
       "   Request_Closing_Time  \n",
       "0       0 days 00:55:30  \n",
       "1       0 days 01:27:13  \n",
       "2       0 days 04:51:34  \n",
       "3       0 days 07:45:27  \n",
       "4       0 days 03:27:44  \n",
       "\n",
       "[5 rows x 22 columns]"
      ]
     },
     "execution_count": 33,
     "metadata": {},
     "output_type": "execute_result"
    }
   ],
   "source": [
    "new_dataset.head()"
   ]
  },
  {
   "cell_type": "code",
   "execution_count": 34,
   "id": "26d4d96d",
   "metadata": {},
   "outputs": [],
   "source": [
    "new_dataset['Request_Closing_Time']=new_dataset['Request_Closing_Time']/np.timedelta64(1,'s')"
   ]
  },
  {
   "cell_type": "code",
   "execution_count": 35,
   "id": "c528fd90",
   "metadata": {
    "collapsed": true
   },
   "outputs": [
    {
     "data": {
      "text/html": [
       "<div>\n",
       "<style scoped>\n",
       "    .dataframe tbody tr th:only-of-type {\n",
       "        vertical-align: middle;\n",
       "    }\n",
       "\n",
       "    .dataframe tbody tr th {\n",
       "        vertical-align: top;\n",
       "    }\n",
       "\n",
       "    .dataframe thead th {\n",
       "        text-align: right;\n",
       "    }\n",
       "</style>\n",
       "<table border=\"1\" class=\"dataframe\">\n",
       "  <thead>\n",
       "    <tr style=\"text-align: right;\">\n",
       "      <th></th>\n",
       "      <th>Created Date</th>\n",
       "      <th>Closed Date</th>\n",
       "      <th>Agency Name</th>\n",
       "      <th>Complaint Type</th>\n",
       "      <th>Descriptor</th>\n",
       "      <th>Location Type</th>\n",
       "      <th>Address Type</th>\n",
       "      <th>City</th>\n",
       "      <th>Facility Type</th>\n",
       "      <th>Status</th>\n",
       "      <th>...</th>\n",
       "      <th>Resolution Action Updated Date</th>\n",
       "      <th>Community Board</th>\n",
       "      <th>Borough</th>\n",
       "      <th>X Coordinate (State Plane)</th>\n",
       "      <th>Y Coordinate (State Plane)</th>\n",
       "      <th>Park Borough</th>\n",
       "      <th>Latitude</th>\n",
       "      <th>Longitude</th>\n",
       "      <th>Location</th>\n",
       "      <th>Request_Closing_Time</th>\n",
       "    </tr>\n",
       "  </thead>\n",
       "  <tbody>\n",
       "    <tr>\n",
       "      <th>0</th>\n",
       "      <td>2015-12-31 23:59:45</td>\n",
       "      <td>2016-01-01 00:55:15</td>\n",
       "      <td>New York City Police Department</td>\n",
       "      <td>Noise - Street/Sidewalk</td>\n",
       "      <td>Loud Music/Party</td>\n",
       "      <td>Street/Sidewalk</td>\n",
       "      <td>ADDRESS</td>\n",
       "      <td>NEW YORK</td>\n",
       "      <td>Precinct</td>\n",
       "      <td>Closed</td>\n",
       "      <td>...</td>\n",
       "      <td>01/01/2016 12:55:15 AM</td>\n",
       "      <td>12 MANHATTAN</td>\n",
       "      <td>MANHATTAN</td>\n",
       "      <td>1005409.0</td>\n",
       "      <td>254678.0</td>\n",
       "      <td>MANHATTAN</td>\n",
       "      <td>40.865682</td>\n",
       "      <td>-73.923501</td>\n",
       "      <td>(40.86568153633767, -73.92350095571744)</td>\n",
       "      <td>3330.0</td>\n",
       "    </tr>\n",
       "    <tr>\n",
       "      <th>1</th>\n",
       "      <td>2015-12-31 23:59:44</td>\n",
       "      <td>2016-01-01 01:26:57</td>\n",
       "      <td>New York City Police Department</td>\n",
       "      <td>Blocked Driveway</td>\n",
       "      <td>No Access</td>\n",
       "      <td>Street/Sidewalk</td>\n",
       "      <td>ADDRESS</td>\n",
       "      <td>ASTORIA</td>\n",
       "      <td>Precinct</td>\n",
       "      <td>Closed</td>\n",
       "      <td>...</td>\n",
       "      <td>01/01/2016 01:26:57 AM</td>\n",
       "      <td>01 QUEENS</td>\n",
       "      <td>QUEENS</td>\n",
       "      <td>1007766.0</td>\n",
       "      <td>221986.0</td>\n",
       "      <td>QUEENS</td>\n",
       "      <td>40.775945</td>\n",
       "      <td>-73.915094</td>\n",
       "      <td>(40.775945312321085, -73.91509393898605)</td>\n",
       "      <td>5233.0</td>\n",
       "    </tr>\n",
       "    <tr>\n",
       "      <th>2</th>\n",
       "      <td>2015-12-31 23:59:29</td>\n",
       "      <td>2016-01-01 04:51:03</td>\n",
       "      <td>New York City Police Department</td>\n",
       "      <td>Blocked Driveway</td>\n",
       "      <td>No Access</td>\n",
       "      <td>Street/Sidewalk</td>\n",
       "      <td>ADDRESS</td>\n",
       "      <td>BRONX</td>\n",
       "      <td>Precinct</td>\n",
       "      <td>Closed</td>\n",
       "      <td>...</td>\n",
       "      <td>01/01/2016 04:51:03 AM</td>\n",
       "      <td>07 BRONX</td>\n",
       "      <td>BRONX</td>\n",
       "      <td>1015081.0</td>\n",
       "      <td>256380.0</td>\n",
       "      <td>BRONX</td>\n",
       "      <td>40.870325</td>\n",
       "      <td>-73.888525</td>\n",
       "      <td>(40.870324522111424, -73.88852464418646)</td>\n",
       "      <td>17494.0</td>\n",
       "    </tr>\n",
       "    <tr>\n",
       "      <th>3</th>\n",
       "      <td>2015-12-31 23:57:46</td>\n",
       "      <td>2016-01-01 07:43:13</td>\n",
       "      <td>New York City Police Department</td>\n",
       "      <td>Illegal Parking</td>\n",
       "      <td>Commercial Overnight Parking</td>\n",
       "      <td>Street/Sidewalk</td>\n",
       "      <td>ADDRESS</td>\n",
       "      <td>BRONX</td>\n",
       "      <td>Precinct</td>\n",
       "      <td>Closed</td>\n",
       "      <td>...</td>\n",
       "      <td>01/01/2016 07:43:13 AM</td>\n",
       "      <td>10 BRONX</td>\n",
       "      <td>BRONX</td>\n",
       "      <td>1031740.0</td>\n",
       "      <td>243899.0</td>\n",
       "      <td>BRONX</td>\n",
       "      <td>40.835994</td>\n",
       "      <td>-73.828379</td>\n",
       "      <td>(40.83599404683083, -73.82837939584206)</td>\n",
       "      <td>27927.0</td>\n",
       "    </tr>\n",
       "    <tr>\n",
       "      <th>4</th>\n",
       "      <td>2015-12-31 23:56:58</td>\n",
       "      <td>2016-01-01 03:24:42</td>\n",
       "      <td>New York City Police Department</td>\n",
       "      <td>Illegal Parking</td>\n",
       "      <td>Blocked Sidewalk</td>\n",
       "      <td>Street/Sidewalk</td>\n",
       "      <td>ADDRESS</td>\n",
       "      <td>ELMHURST</td>\n",
       "      <td>Precinct</td>\n",
       "      <td>Closed</td>\n",
       "      <td>...</td>\n",
       "      <td>01/01/2016 03:24:42 AM</td>\n",
       "      <td>04 QUEENS</td>\n",
       "      <td>QUEENS</td>\n",
       "      <td>1019123.0</td>\n",
       "      <td>206375.0</td>\n",
       "      <td>QUEENS</td>\n",
       "      <td>40.733060</td>\n",
       "      <td>-73.874170</td>\n",
       "      <td>(40.733059618956815, -73.87416975810375)</td>\n",
       "      <td>12464.0</td>\n",
       "    </tr>\n",
       "  </tbody>\n",
       "</table>\n",
       "<p>5 rows × 22 columns</p>\n",
       "</div>"
      ],
      "text/plain": [
       "         Created Date         Closed Date                      Agency Name  \\\n",
       "0 2015-12-31 23:59:45 2016-01-01 00:55:15  New York City Police Department   \n",
       "1 2015-12-31 23:59:44 2016-01-01 01:26:57  New York City Police Department   \n",
       "2 2015-12-31 23:59:29 2016-01-01 04:51:03  New York City Police Department   \n",
       "3 2015-12-31 23:57:46 2016-01-01 07:43:13  New York City Police Department   \n",
       "4 2015-12-31 23:56:58 2016-01-01 03:24:42  New York City Police Department   \n",
       "\n",
       "            Complaint Type                    Descriptor    Location Type  \\\n",
       "0  Noise - Street/Sidewalk              Loud Music/Party  Street/Sidewalk   \n",
       "1         Blocked Driveway                     No Access  Street/Sidewalk   \n",
       "2         Blocked Driveway                     No Access  Street/Sidewalk   \n",
       "3          Illegal Parking  Commercial Overnight Parking  Street/Sidewalk   \n",
       "4          Illegal Parking              Blocked Sidewalk  Street/Sidewalk   \n",
       "\n",
       "  Address Type      City Facility Type  Status  ...  \\\n",
       "0      ADDRESS  NEW YORK      Precinct  Closed  ...   \n",
       "1      ADDRESS   ASTORIA      Precinct  Closed  ...   \n",
       "2      ADDRESS     BRONX      Precinct  Closed  ...   \n",
       "3      ADDRESS     BRONX      Precinct  Closed  ...   \n",
       "4      ADDRESS  ELMHURST      Precinct  Closed  ...   \n",
       "\n",
       "  Resolution Action Updated Date Community Board    Borough  \\\n",
       "0         01/01/2016 12:55:15 AM    12 MANHATTAN  MANHATTAN   \n",
       "1         01/01/2016 01:26:57 AM       01 QUEENS     QUEENS   \n",
       "2         01/01/2016 04:51:03 AM        07 BRONX      BRONX   \n",
       "3         01/01/2016 07:43:13 AM        10 BRONX      BRONX   \n",
       "4         01/01/2016 03:24:42 AM       04 QUEENS     QUEENS   \n",
       "\n",
       "  X Coordinate (State Plane) Y Coordinate (State Plane)  Park Borough  \\\n",
       "0                  1005409.0                   254678.0     MANHATTAN   \n",
       "1                  1007766.0                   221986.0        QUEENS   \n",
       "2                  1015081.0                   256380.0         BRONX   \n",
       "3                  1031740.0                   243899.0         BRONX   \n",
       "4                  1019123.0                   206375.0        QUEENS   \n",
       "\n",
       "    Latitude  Longitude                                  Location  \\\n",
       "0  40.865682 -73.923501   (40.86568153633767, -73.92350095571744)   \n",
       "1  40.775945 -73.915094  (40.775945312321085, -73.91509393898605)   \n",
       "2  40.870325 -73.888525  (40.870324522111424, -73.88852464418646)   \n",
       "3  40.835994 -73.828379   (40.83599404683083, -73.82837939584206)   \n",
       "4  40.733060 -73.874170  (40.733059618956815, -73.87416975810375)   \n",
       "\n",
       "   Request_Closing_Time  \n",
       "0                3330.0  \n",
       "1                5233.0  \n",
       "2               17494.0  \n",
       "3               27927.0  \n",
       "4               12464.0  \n",
       "\n",
       "[5 rows x 22 columns]"
      ]
     },
     "execution_count": 35,
     "metadata": {},
     "output_type": "execute_result"
    }
   ],
   "source": [
    "new_dataset.head()"
   ]
  },
  {
   "cell_type": "code",
   "execution_count": 36,
   "id": "d9178aa7",
   "metadata": {
    "collapsed": true
   },
   "outputs": [
    {
     "data": {
      "text/plain": [
       "Index(['Created Date', 'Closed Date', 'Agency Name', 'Complaint Type',\n",
       "       'Descriptor', 'Location Type', 'Address Type', 'City', 'Facility Type',\n",
       "       'Status', 'Due Date', 'Resolution Description',\n",
       "       'Resolution Action Updated Date', 'Community Board', 'Borough',\n",
       "       'X Coordinate (State Plane)', 'Y Coordinate (State Plane)',\n",
       "       'Park Borough', 'Latitude', 'Longitude', 'Location',\n",
       "       'Request_Closing_Time'],\n",
       "      dtype='object')"
      ]
     },
     "execution_count": 36,
     "metadata": {},
     "output_type": "execute_result"
    }
   ],
   "source": [
    "new_dataset.columns"
   ]
  },
  {
   "cell_type": "code",
   "execution_count": 37,
   "id": "3143b249",
   "metadata": {
    "collapsed": true
   },
   "outputs": [
    {
     "data": {
      "text/plain": [
       "count    3.621770e+05\n",
       "mean     1.511330e+04\n",
       "std      2.110255e+04\n",
       "min      6.100000e+01\n",
       "25%      4.533000e+03\n",
       "50%      9.616000e+03\n",
       "75%      1.887800e+04\n",
       "max      2.134342e+06\n",
       "Name: Request_Closing_Time, dtype: float64"
      ]
     },
     "execution_count": 37,
     "metadata": {},
     "output_type": "execute_result"
    }
   ],
   "source": [
    "new_dataset['Request_Closing_Time'].describe()"
   ]
  },
  {
   "cell_type": "code",
   "execution_count": 38,
   "id": "d2190392",
   "metadata": {
    "collapsed": true
   },
   "outputs": [
    {
     "data": {
      "text/plain": [
       "15113.299632500131"
      ]
     },
     "execution_count": 38,
     "metadata": {},
     "output_type": "execute_result"
    }
   ],
   "source": [
    "new_dataset['Request_Closing_Time'].mean()"
   ]
  },
  {
   "cell_type": "markdown",
   "id": "c1e8f98d",
   "metadata": {},
   "source": [
    "### Providing major insights"
   ]
  },
  {
   "cell_type": "code",
   "execution_count": 39,
   "id": "d4dec719",
   "metadata": {
    "collapsed": true
   },
   "outputs": [
    {
     "data": {
      "text/plain": [
       "Blocked Driveway           100624\n",
       "Illegal Parking             91716\n",
       "Noise - Street/Sidewalk     51139\n",
       "Noise - Commercial          43751\n",
       "Derelict Vehicle            21518\n",
       "Noise - Vehicle             19301\n",
       "Animal Abuse                10530\n",
       "Traffic                      5196\n",
       "Homeless Encampment          4879\n",
       "Vending                      4185\n",
       "Name: Complaint Type, dtype: int64"
      ]
     },
     "execution_count": 39,
     "metadata": {},
     "output_type": "execute_result"
    }
   ],
   "source": [
    "#Analysing most frequent complaints\n",
    "new_dataset['Complaint Type'].value_counts().head(10)"
   ]
  },
  {
   "cell_type": "code",
   "execution_count": 40,
   "id": "e42629b2",
   "metadata": {
    "collapsed": true
   },
   "outputs": [
    {
     "data": {
      "text/plain": [
       "<AxesSubplot:title={'center':'Complaint types'}, xlabel='complaint type', ylabel='Count'>"
      ]
     },
     "execution_count": 40,
     "metadata": {},
     "output_type": "execute_result"
    },
    {
     "data": {
      "image/png": "[encoded data removed]",
      "text/plain": [
       "<Figure size 720x720 with 1 Axes>"
      ]
     },
     "metadata": {
      "needs_background": "light"
     },
     "output_type": "display_data"
    }
   ],
   "source": [
    "#plotting\n",
    "new_dataset['Complaint Type'].value_counts().head(10).plot(kind='bar',figsize=(10,10),title='Complaint types',ylabel='Count',xlabel='complaint type',grid=True)"
   ]
  },
  {
   "cell_type": "markdown",
   "id": "71bd9d2f",
   "metadata": {},
   "source": [
    "Conclusion1= Blocked Driveaway has maximum counts in complaint type"
   ]
  },
  {
   "cell_type": "code",
   "execution_count": 41,
   "id": "f95052ed",
   "metadata": {
    "collapsed": true
   },
   "outputs": [
    {
     "data": {
      "text/plain": [
       "Street/Sidewalk               299388\n",
       "Store/Commercial               25007\n",
       "Club/Bar/Restaurant            21378\n",
       "Residential Building/House      8861\n",
       "Park/Playground                 4849\n",
       "House of Worship                1066\n",
       "Residential Building             533\n",
       "Highway                          264\n",
       "House and Store                  245\n",
       "Parking Lot                      167\n",
       "Name: Location Type, dtype: int64"
      ]
     },
     "execution_count": 41,
     "metadata": {},
     "output_type": "execute_result"
    }
   ],
   "source": [
    "#checking from which location type complaints are most frequent\n",
    "\n",
    "new_dataset['Location Type'].value_counts().head(10)"
   ]
  },
  {
   "cell_type": "code",
   "execution_count": 42,
   "id": "655daa92",
   "metadata": {
    "collapsed": true
   },
   "outputs": [
    {
     "data": {
      "text/plain": [
       "<AxesSubplot:title={'center':'Location types'}, xlabel='location type', ylabel='Count'>"
      ]
     },
     "execution_count": 42,
     "metadata": {},
     "output_type": "execute_result"
    },
    {
     "data": {
      "image/png": "[encoded data removed]",
      "text/plain": [
       "<Figure size 720x720 with 1 Axes>"
      ]
     },
     "metadata": {
      "needs_background": "light"
     },
     "output_type": "display_data"
    }
   ],
   "source": [
    "new_dataset['Location Type'].value_counts().head(10).plot(kind='bar',figsize=(10,10),title='Location types',ylabel='Count',xlabel='location type',grid=True)"
   ]
  },
  {
   "cell_type": "markdown",
   "id": "16b62cf5",
   "metadata": {},
   "source": [
    "# Conclusion2: Complaints are most frquent from street/sidewalk"
   ]
  },
  {
   "cell_type": "code",
   "execution_count": 43,
   "id": "fb534b7b",
   "metadata": {
    "collapsed": true
   },
   "outputs": [
    {
     "data": {
      "text/plain": [
       "BROOKLYN         118849\n",
       "NEW YORK          77289\n",
       "BRONX             49166\n",
       "STATEN ISLAND     15335\n",
       "JAMAICA            8930\n",
       "ASTORIA            7991\n",
       "FLUSHING           7486\n",
       "RIDGEWOOD          6391\n",
       "CORONA             5383\n",
       "WOODSIDE           4357\n",
       "Name: City, dtype: int64"
      ]
     },
     "execution_count": 43,
     "metadata": {},
     "output_type": "execute_result"
    }
   ],
   "source": [
    "# checking complaints are coming from which city frquently\n",
    "new_dataset['City'].value_counts().head(10)"
   ]
  },
  {
   "cell_type": "code",
   "execution_count": 44,
   "id": "2c13df8a",
   "metadata": {
    "collapsed": true
   },
   "outputs": [
    {
     "data": {
      "text/plain": [
       "<AxesSubplot:title={'center':' CITIES'}, xlabel='CITIES', ylabel='Count'>"
      ]
     },
     "execution_count": 44,
     "metadata": {},
     "output_type": "execute_result"
    },
    {
     "data": {
      "image/png": "[encoded data removed]",
      "text/plain": [
       "<Figure size 720x720 with 1 Axes>"
      ]
     },
     "metadata": {
      "needs_background": "light"
     },
     "output_type": "display_data"
    }
   ],
   "source": [
    "new_dataset['City'].value_counts().head(10).plot(kind='bar',figsize=(10,10),title=' CITIES',ylabel='Count',xlabel='CITIES',grid=True)"
   ]
  },
  {
   "cell_type": "markdown",
   "id": "104cdbbf",
   "metadata": {},
   "source": [
    "# Conclusion3:most frequently complaints comes from city brooklyn followed by new york"
   ]
  },
  {
   "cell_type": "code",
   "execution_count": 45,
   "id": "2e3f683f",
   "metadata": {
    "collapsed": true
   },
   "outputs": [
    {
     "data": {
      "text/plain": [
       "No Access                        75715\n",
       "Loud Music/Party                 69080\n",
       "Posted Parking Sign Violation    27013\n",
       "Partial Access                   24909\n",
       "Loud Talking                     23591\n",
       "With License Plate               21518\n",
       "Blocked Hydrant                  19797\n",
       "Commercial Overnight Parking     14705\n",
       "Blocked Sidewalk                 13711\n",
       "Car/Truck Music                  11894\n",
       "Name: Descriptor, dtype: int64"
      ]
     },
     "execution_count": 45,
     "metadata": {},
     "output_type": "execute_result"
    }
   ],
   "source": [
    "#plotting top 15 descriptors\n",
    "new_dataset['Descriptor'].value_counts().head(10)"
   ]
  },
  {
   "cell_type": "code",
   "execution_count": 46,
   "id": "4fa56b9e",
   "metadata": {
    "collapsed": true
   },
   "outputs": [
    {
     "data": {
      "text/plain": [
       "<AxesSubplot:title={'center':' CITIES'}, xlabel='CITIES', ylabel='Count'>"
      ]
     },
     "execution_count": 46,
     "metadata": {},
     "output_type": "execute_result"
    },
    {
     "data": {
      "image/png": "[encoded data removed]",
      "text/plain": [
       "<Figure size 720x720 with 1 Axes>"
      ]
     },
     "metadata": {
      "needs_background": "light"
     },
     "output_type": "display_data"
    }
   ],
   "source": [
    "new_dataset['Descriptor'].value_counts().head(10).plot(kind='bar',figsize=(10,10),title=' CITIES',ylabel='Count',xlabel='CITIES',grid=True)"
   ]
  },
  {
   "cell_type": "markdown",
   "id": "745b1da7",
   "metadata": {},
   "source": [
    "# Conclusion4: No access is maximum followed by loud music party"
   ]
  },
  {
   "cell_type": "markdown",
   "id": "85e2377e",
   "metadata": {},
   "source": [
    "# Statistical test"
   ]
  },
  {
   "cell_type": "code",
   "execution_count": 47,
   "id": "bbdf742e",
   "metadata": {},
   "outputs": [],
   "source": [
    "# null hypothesis= avg response time across complaint type is similar\n",
    "#alternate hypothesis= avg response time across complaint types isn't similar"
   ]
  },
  {
   "cell_type": "code",
   "execution_count": 48,
   "id": "5e94cad7",
   "metadata": {
    "collapsed": true
   },
   "outputs": [
    {
     "data": {
      "text/plain": [
       "0     3330.0\n",
       "1     5233.0\n",
       "2    17494.0\n",
       "3    27927.0\n",
       "4    12464.0\n",
       "5     6821.0\n",
       "6     7102.0\n",
       "7     6529.0\n",
       "8    30814.0\n",
       "9     5022.0\n",
       "Name: Request_Closing_Time, dtype: float64"
      ]
     },
     "execution_count": 48,
     "metadata": {},
     "output_type": "execute_result"
    }
   ],
   "source": [
    "#checking request closing time\n",
    "new_dataset['Request_Closing_Time'].head(10)"
   ]
  },
  {
   "cell_type": "markdown",
   "id": "6a18b736",
   "metadata": {},
   "source": [
    "### Ordering the complaint types based on the average ‘Request_Closing_Time’, grouping them for different locations."
   ]
  },
  {
   "cell_type": "code",
   "execution_count": 49,
   "id": "e771e7f0",
   "metadata": {
    "collapsed": true
   },
   "outputs": [
    {
     "data": {
      "text/plain": [
       "Complaint Type\n",
       "Agency Issues                1.828912e+04\n",
       "Animal Abuse                 1.803256e+04\n",
       "Animal in a Park             1.212634e+06\n",
       "Bike/Roller/Skate Chronic    1.312369e+04\n",
       "Blocked Driveway             1.623252e+04\n",
       "Derelict Vehicle             2.535960e+04\n",
       "Disorderly Youth             1.236375e+04\n",
       "Drinking                     1.382130e+04\n",
       "Graffiti                     2.327634e+04\n",
       "Homeless Encampment          1.545138e+04\n",
       "Illegal Fireworks            1.011348e+04\n",
       "Illegal Parking              1.565044e+04\n",
       "Noise - Commercial           1.108576e+04\n",
       "Noise - House of Worship     1.139109e+04\n",
       "Noise - Park                 1.222606e+04\n",
       "Noise - Street/Sidewalk      1.223130e+04\n",
       "Noise - Vehicle              1.256180e+04\n",
       "Panhandling                  1.585355e+04\n",
       "Posting Advertisement        7.286256e+03\n",
       "Squeegee                     1.456025e+04\n",
       "Traffic                      1.230912e+04\n",
       "Urinating in Public          1.295929e+04\n",
       "Vending                      1.436628e+04\n",
       "Name: Request_Closing_Time, dtype: float64"
      ]
     },
     "execution_count": 49,
     "metadata": {},
     "output_type": "execute_result"
    }
   ],
   "source": [
    "new_dataset.groupby(['Complaint Type'], sort= True).Request_Closing_Time.mean()"
   ]
  },
  {
   "cell_type": "code",
   "execution_count": 50,
   "id": "42a3c79e",
   "metadata": {
    "collapsed": true
   },
   "outputs": [
    {
     "data": {
      "text/plain": [
       "count    3.621770e+05\n",
       "mean     1.511330e+04\n",
       "std      2.110255e+04\n",
       "min      6.100000e+01\n",
       "25%      4.533000e+03\n",
       "50%      9.616000e+03\n",
       "75%      1.887800e+04\n",
       "max      2.134342e+06\n",
       "Name: Request_Closing_Time, dtype: float64"
      ]
     },
     "execution_count": 50,
     "metadata": {},
     "output_type": "execute_result"
    }
   ],
   "source": [
    "new_dataset.Request_Closing_Time.describe()"
   ]
  },
  {
   "cell_type": "code",
   "execution_count": 51,
   "id": "0b101c0b",
   "metadata": {
    "collapsed": true
   },
   "outputs": [
    {
     "data": {
      "image/png": "[encoded data removed]",
      "text/plain": [
       "<Figure size 720x648 with 1 Axes>"
      ]
     },
     "metadata": {
      "needs_background": "light"
     },
     "output_type": "display_data"
    }
   ],
   "source": [
    "plt.figure(figsize=(10,9))\n",
    "plt.hist(new_dataset['Request_Closing_Time'])\n",
    "plt.show()"
   ]
  },
  {
   "cell_type": "code",
   "execution_count": 52,
   "id": "95408a72",
   "metadata": {
    "collapsed": true
   },
   "outputs": [
    {
     "data": {
      "image/png": "[encoded data removed]",
      "text/plain": [
       "<Figure size 432x288 with 1 Axes>"
      ]
     },
     "metadata": {},
     "output_type": "display_data"
    }
   ],
   "source": [
    "sns.set()\n",
    "sns.distplot(new_dataset.Request_Closing_Time, hist= False)\n",
    "plt.show()"
   ]
  },
  {
   "cell_type": "code",
   "execution_count": 53,
   "id": "3caf2379",
   "metadata": {
    "scrolled": true
   },
   "outputs": [
    {
     "name": "stdout",
     "output_type": "stream",
     "text": [
      "0.5136188268661499 0.0\n"
     ]
    }
   ],
   "source": [
    "from scipy.stats import shapiro\n",
    "stats,p=shapiro(new_dataset.Request_Closing_Time)\n",
    "print(stats,p)"
   ]
  },
  {
   "cell_type": "markdown",
   "id": "2f190e17",
   "metadata": {},
   "source": [
    "### the data is not normally distributed"
   ]
  },
  {
   "cell_type": "code",
   "execution_count": 54,
   "id": "49f642a7",
   "metadata": {
    "collapsed": true
   },
   "outputs": [
    {
     "data": {
      "image/png": "[encoded data removed]",
      "text/plain": [
       "<Figure size 432x288 with 1 Axes>"
      ]
     },
     "metadata": {},
     "output_type": "display_data"
    }
   ],
   "source": [
    "import statsmodels.api as sm\n",
    "import pylab\n",
    "sm.qqplot(new_dataset.Request_Closing_Time, loc = 4, scale = 3, line='s')\n",
    "pylab.show()"
   ]
  },
  {
   "cell_type": "markdown",
   "id": "a55a9f02",
   "metadata": {},
   "source": [
    "### Whether the average response time across complaint types is similar or not (overall)"
   ]
  },
  {
   "cell_type": "code",
   "execution_count": 55,
   "id": "95c074d6",
   "metadata": {
    "collapsed": true
   },
   "outputs": [
    {
     "data": {
      "text/plain": [
       "array(['Noise - Street/Sidewalk', 'Blocked Driveway', 'Illegal Parking',\n",
       "       'Derelict Vehicle', 'Noise - Commercial',\n",
       "       'Noise - House of Worship', 'Posting Advertisement',\n",
       "       'Noise - Vehicle', 'Animal Abuse', 'Vending', 'Traffic',\n",
       "       'Drinking', 'Bike/Roller/Skate Chronic', 'Panhandling',\n",
       "       'Noise - Park', 'Homeless Encampment', 'Urinating in Public',\n",
       "       'Graffiti', 'Disorderly Youth', 'Illegal Fireworks',\n",
       "       'Agency Issues', 'Squeegee', 'Animal in a Park'], dtype=object)"
      ]
     },
     "execution_count": 55,
     "metadata": {},
     "output_type": "execute_result"
    }
   ],
   "source": [
    "Complaint_Types= new_dataset[ 'Complaint Type'].unique()\n",
    "Complaint_Types"
   ]
  },
  {
   "cell_type": "code",
   "execution_count": 73,
   "id": "1b058b50",
   "metadata": {
    "collapsed": true
   },
   "outputs": [
    {
     "data": {
      "text/plain": [
       "23"
      ]
     },
     "execution_count": 73,
     "metadata": {},
     "output_type": "execute_result"
    }
   ],
   "source": [
    "len(Complaint_Types)"
   ]
  },
  {
   "cell_type": "code",
   "execution_count": 72,
   "id": "ad356027",
   "metadata": {},
   "outputs": [],
   "source": [
    "new=[]\n",
    "for i in Complaint_Types:\n",
    "   new.append(new_dataset.loc[new_dataset['Complaint Type']==i]['Request_Closing_Time'].ravel())"
   ]
  },
  {
   "cell_type": "code",
   "execution_count": 65,
   "id": "4e8ca16e",
   "metadata": {
    "collapsed": true
   },
   "outputs": [
    {
     "data": {
      "text/plain": [
       "23"
      ]
     },
     "execution_count": 65,
     "metadata": {},
     "output_type": "execute_result"
    }
   ],
   "source": [
    "len(new)\n"
   ]
  },
  {
   "cell_type": "code",
   "execution_count": 66,
   "id": "e2c8bfca",
   "metadata": {
    "collapsed": true
   },
   "outputs": [
    {
     "data": {
      "text/plain": [
       "array([27090., 37381.,  9736., 24686.,  4073., 10628., 30818.,  1901.])"
      ]
     },
     "execution_count": 66,
     "metadata": {},
     "output_type": "execute_result"
    }
   ],
   "source": [
    "new[20]"
   ]
  },
  {
   "cell_type": "markdown",
   "id": "6e424d31",
   "metadata": {},
   "source": [
    "Kruskal Wallis H Test\n",
    "\n",
    "Fail to Reject H0: All sample distributions are equal.\n",
    "\n",
    "Reject H0: One or more sample distributions are not equal."
   ]
  },
  {
   "cell_type": "code",
   "execution_count": 67,
   "id": "f33895f5",
   "metadata": {
    "scrolled": true
   },
   "outputs": [
    {
     "name": "stdout",
     "output_type": "stream",
     "text": [
      "Statistics=11988.269, p=0.000\n",
      "Different distributions (reject H0)\n"
     ]
    }
   ],
   "source": [
    "from scipy.stats import kruskal\n",
    "# compare samples\n",
    "stat, p = kruskal(new[0],new[1], new[2],new[3], new[4], new[5], new[6], new[7], new[8], new[9], new[10], new[11], new[12], new[13], new[14], new[15], new[16], new[17], new[18], new[19],new[20], new[21], new[22])\n",
    "print('Statistics=%.3f, p=%.3f' % (stat, p))\n",
    "# interpret\n",
    "alpha = 0.05\n",
    "if p > alpha:\n",
    "    print('Same distributions (fail to reject H0)')\n",
    "else:\n",
    "    print('Different distributions (reject H0)')"
   ]
  },
  {
   "cell_type": "markdown",
   "id": "40a8fbfa",
   "metadata": {},
   "source": [
    "Hence it is proved requested closing time is not equally distributed"
   ]
  },
  {
   "cell_type": "markdown",
   "id": "18614341",
   "metadata": {},
   "source": [
    "### Are the type of complaint or service requested and location related?"
   ]
  },
  {
   "cell_type": "code",
   "execution_count": 60,
   "id": "9562c193",
   "metadata": {
    "collapsed": true
   },
   "outputs": [
    {
     "data": {
      "text/html": [
       "<div>\n",
       "<style scoped>\n",
       "    .dataframe tbody tr th:only-of-type {\n",
       "        vertical-align: middle;\n",
       "    }\n",
       "\n",
       "    .dataframe tbody tr th {\n",
       "        vertical-align: top;\n",
       "    }\n",
       "\n",
       "    .dataframe thead th {\n",
       "        text-align: right;\n",
       "    }\n",
       "</style>\n",
       "<table border=\"1\" class=\"dataframe\">\n",
       "  <thead>\n",
       "    <tr style=\"text-align: right;\">\n",
       "      <th>Complaint Type</th>\n",
       "      <th>Animal Abuse</th>\n",
       "      <th>Animal in a Park</th>\n",
       "      <th>Bike/Roller/Skate Chronic</th>\n",
       "      <th>Blocked Driveway</th>\n",
       "      <th>Derelict Vehicle</th>\n",
       "      <th>Disorderly Youth</th>\n",
       "      <th>Drinking</th>\n",
       "      <th>Graffiti</th>\n",
       "      <th>Homeless Encampment</th>\n",
       "      <th>Illegal Fireworks</th>\n",
       "      <th>...</th>\n",
       "      <th>Noise - Park</th>\n",
       "      <th>Noise - Street/Sidewalk</th>\n",
       "      <th>Noise - Vehicle</th>\n",
       "      <th>Panhandling</th>\n",
       "      <th>Posting Advertisement</th>\n",
       "      <th>Squeegee</th>\n",
       "      <th>Traffic</th>\n",
       "      <th>Urinating in Public</th>\n",
       "      <th>Vending</th>\n",
       "      <th>All</th>\n",
       "    </tr>\n",
       "    <tr>\n",
       "      <th>City</th>\n",
       "      <th></th>\n",
       "      <th></th>\n",
       "      <th></th>\n",
       "      <th></th>\n",
       "      <th></th>\n",
       "      <th></th>\n",
       "      <th></th>\n",
       "      <th></th>\n",
       "      <th></th>\n",
       "      <th></th>\n",
       "      <th></th>\n",
       "      <th></th>\n",
       "      <th></th>\n",
       "      <th></th>\n",
       "      <th></th>\n",
       "      <th></th>\n",
       "      <th></th>\n",
       "      <th></th>\n",
       "      <th></th>\n",
       "      <th></th>\n",
       "      <th></th>\n",
       "    </tr>\n",
       "  </thead>\n",
       "  <tbody>\n",
       "    <tr>\n",
       "      <th>ARVERNE</th>\n",
       "      <td>46</td>\n",
       "      <td>0</td>\n",
       "      <td>0</td>\n",
       "      <td>50</td>\n",
       "      <td>32</td>\n",
       "      <td>2</td>\n",
       "      <td>1</td>\n",
       "      <td>1</td>\n",
       "      <td>4</td>\n",
       "      <td>0</td>\n",
       "      <td>...</td>\n",
       "      <td>2</td>\n",
       "      <td>29</td>\n",
       "      <td>10</td>\n",
       "      <td>1</td>\n",
       "      <td>0</td>\n",
       "      <td>0</td>\n",
       "      <td>1</td>\n",
       "      <td>1</td>\n",
       "      <td>1</td>\n",
       "      <td>259</td>\n",
       "    </tr>\n",
       "    <tr>\n",
       "      <th>ASTORIA</th>\n",
       "      <td>170</td>\n",
       "      <td>0</td>\n",
       "      <td>16</td>\n",
       "      <td>3436</td>\n",
       "      <td>426</td>\n",
       "      <td>5</td>\n",
       "      <td>43</td>\n",
       "      <td>4</td>\n",
       "      <td>32</td>\n",
       "      <td>4</td>\n",
       "      <td>...</td>\n",
       "      <td>64</td>\n",
       "      <td>409</td>\n",
       "      <td>236</td>\n",
       "      <td>2</td>\n",
       "      <td>3</td>\n",
       "      <td>0</td>\n",
       "      <td>60</td>\n",
       "      <td>10</td>\n",
       "      <td>57</td>\n",
       "      <td>7991</td>\n",
       "    </tr>\n",
       "    <tr>\n",
       "      <th>Astoria</th>\n",
       "      <td>0</td>\n",
       "      <td>0</td>\n",
       "      <td>0</td>\n",
       "      <td>159</td>\n",
       "      <td>14</td>\n",
       "      <td>0</td>\n",
       "      <td>0</td>\n",
       "      <td>0</td>\n",
       "      <td>0</td>\n",
       "      <td>0</td>\n",
       "      <td>...</td>\n",
       "      <td>0</td>\n",
       "      <td>145</td>\n",
       "      <td>0</td>\n",
       "      <td>0</td>\n",
       "      <td>0</td>\n",
       "      <td>0</td>\n",
       "      <td>0</td>\n",
       "      <td>0</td>\n",
       "      <td>0</td>\n",
       "      <td>905</td>\n",
       "    </tr>\n",
       "    <tr>\n",
       "      <th>BAYSIDE</th>\n",
       "      <td>53</td>\n",
       "      <td>0</td>\n",
       "      <td>0</td>\n",
       "      <td>514</td>\n",
       "      <td>231</td>\n",
       "      <td>2</td>\n",
       "      <td>1</td>\n",
       "      <td>3</td>\n",
       "      <td>2</td>\n",
       "      <td>0</td>\n",
       "      <td>...</td>\n",
       "      <td>4</td>\n",
       "      <td>17</td>\n",
       "      <td>24</td>\n",
       "      <td>0</td>\n",
       "      <td>0</td>\n",
       "      <td>0</td>\n",
       "      <td>9</td>\n",
       "      <td>0</td>\n",
       "      <td>2</td>\n",
       "      <td>1550</td>\n",
       "    </tr>\n",
       "    <tr>\n",
       "      <th>BELLEROSE</th>\n",
       "      <td>15</td>\n",
       "      <td>0</td>\n",
       "      <td>1</td>\n",
       "      <td>138</td>\n",
       "      <td>120</td>\n",
       "      <td>2</td>\n",
       "      <td>1</td>\n",
       "      <td>0</td>\n",
       "      <td>1</td>\n",
       "      <td>1</td>\n",
       "      <td>...</td>\n",
       "      <td>1</td>\n",
       "      <td>13</td>\n",
       "      <td>11</td>\n",
       "      <td>1</td>\n",
       "      <td>1</td>\n",
       "      <td>0</td>\n",
       "      <td>9</td>\n",
       "      <td>1</td>\n",
       "      <td>0</td>\n",
       "      <td>487</td>\n",
       "    </tr>\n",
       "  </tbody>\n",
       "</table>\n",
       "<p>5 rows × 23 columns</p>\n",
       "</div>"
      ],
      "text/plain": [
       "Complaint Type  Animal Abuse  Animal in a Park  Bike/Roller/Skate Chronic  \\\n",
       "City                                                                        \n",
       "ARVERNE                   46                 0                          0   \n",
       "ASTORIA                  170                 0                         16   \n",
       "Astoria                    0                 0                          0   \n",
       "BAYSIDE                   53                 0                          0   \n",
       "BELLEROSE                 15                 0                          1   \n",
       "\n",
       "Complaint Type  Blocked Driveway  Derelict Vehicle  Disorderly Youth  \\\n",
       "City                                                                   \n",
       "ARVERNE                       50                32                 2   \n",
       "ASTORIA                     3436               426                 5   \n",
       "Astoria                      159                14                 0   \n",
       "BAYSIDE                      514               231                 2   \n",
       "BELLEROSE                    138               120                 2   \n",
       "\n",
       "Complaint Type  Drinking  Graffiti  Homeless Encampment  Illegal Fireworks  \\\n",
       "City                                                                         \n",
       "ARVERNE                1         1                    4                  0   \n",
       "ASTORIA               43         4                   32                  4   \n",
       "Astoria                0         0                    0                  0   \n",
       "BAYSIDE                1         3                    2                  0   \n",
       "BELLEROSE              1         0                    1                  1   \n",
       "\n",
       "Complaint Type  ...  Noise - Park  Noise - Street/Sidewalk  Noise - Vehicle  \\\n",
       "City            ...                                                           \n",
       "ARVERNE         ...             2                       29               10   \n",
       "ASTORIA         ...            64                      409              236   \n",
       "Astoria         ...             0                      145                0   \n",
       "BAYSIDE         ...             4                       17               24   \n",
       "BELLEROSE       ...             1                       13               11   \n",
       "\n",
       "Complaint Type  Panhandling  Posting Advertisement  Squeegee  Traffic  \\\n",
       "City                                                                    \n",
       "ARVERNE                   1                      0         0        1   \n",
       "ASTORIA                   2                      3         0       60   \n",
       "Astoria                   0                      0         0        0   \n",
       "BAYSIDE                   0                      0         0        9   \n",
       "BELLEROSE                 1                      1         0        9   \n",
       "\n",
       "Complaint Type  Urinating in Public  Vending   All  \n",
       "City                                                \n",
       "ARVERNE                           1        1   259  \n",
       "ASTORIA                          10       57  7991  \n",
       "Astoria                           0        0   905  \n",
       "BAYSIDE                           0        2  1550  \n",
       "BELLEROSE                         1        0   487  \n",
       "\n",
       "[5 rows x 23 columns]"
      ]
     },
     "execution_count": 60,
     "metadata": {},
     "output_type": "execute_result"
    }
   ],
   "source": [
    "#contingency Table for complaints\n",
    "contingency_table = pd.crosstab(new_dataset['City'],new_dataset['Complaint Type'], margins= True)\n",
    "contingency_table.head()"
   ]
  },
  {
   "cell_type": "code",
   "execution_count": 61,
   "id": "f428a1c9",
   "metadata": {
    "collapsed": true
   },
   "outputs": [
    {
     "data": {
      "text/plain": [
       "(54, 23)"
      ]
     },
     "execution_count": 61,
     "metadata": {},
     "output_type": "execute_result"
    }
   ],
   "source": [
    "contingency_table.shape"
   ]
  },
  {
   "cell_type": "markdown",
   "id": "2e196196",
   "metadata": {},
   "source": [
    "### first five rows and 24 columns"
   ]
  },
  {
   "cell_type": "code",
   "execution_count": 62,
   "id": "2b1a0a3a",
   "metadata": {
    "collapsed": true
   },
   "outputs": [
    {
     "data": {
      "text/plain": [
       "array([[  46,    0,    0,   50,   32,    2,    1,    1,    4,    0,   62,\n",
       "           2,   14,    2,   29,   10,    1,    0,    0,    1,    1,    1,\n",
       "         259],\n",
       "       [ 170,    0,   16, 3436,  426,    5,   43,    4,   32,    4, 1340,\n",
       "        1653,   21,   64,  409,  236,    2,    3,    0,   60,   10,   57,\n",
       "        7991],\n",
       "       [   0,    0,    0,  159,   14,    0,    0,    0,    0,    0,  277,\n",
       "         310,    0,    0,  145,    0,    0,    0,    0,    0,    0,    0,\n",
       "         905],\n",
       "       [  53,    0,    0,  514,  231,    2,    1,    3,    2,    0,  638,\n",
       "          47,    3,    4,   17,   24,    0,    0,    0,    9,    0,    2,\n",
       "        1550],\n",
       "       [  15,    0,    1,  138,  120,    2,    1,    0,    1,    1,  132,\n",
       "          38,    1,    1,   13,   11,    1,    1,    0,    9,    1,    0,\n",
       "         487]], dtype=int64)"
      ]
     },
     "execution_count": 62,
     "metadata": {},
     "output_type": "execute_result"
    }
   ],
   "source": [
    "contingency_table.iloc[0:5][0:24].values"
   ]
  },
  {
   "cell_type": "code",
   "execution_count": 63,
   "id": "9e7b9916",
   "metadata": {
    "collapsed": true
   },
   "outputs": [
    {
     "data": {
      "text/plain": [
       "array([[  46,    0,    0,   50,   32,    2,    1,    1,    4,    0,   62,\n",
       "           2,   14,    2,   29,   10,    1,    0,    0,    1,    1,    1,\n",
       "         259],\n",
       "       [ 170,    0,   16, 3436,  426,    5,   43,    4,   32,    4, 1340,\n",
       "        1653,   21,   64,  409,  236,    2,    3,    0,   60,   10,   57,\n",
       "        7991],\n",
       "       [   0,    0,    0,  159,   14,    0,    0,    0,    0,    0,  277,\n",
       "         310,    0,    0,  145,    0,    0,    0,    0,    0,    0,    0,\n",
       "         905],\n",
       "       [  53,    0,    0,  514,  231,    2,    1,    3,    2,    0,  638,\n",
       "          47,    3,    4,   17,   24,    0,    0,    0,    9,    0,    2,\n",
       "        1550],\n",
       "       [  15,    0,    1,  138,  120,    2,    1,    0,    1,    1,  132,\n",
       "          38,    1,    1,   13,   11,    1,    1,    0,    9,    1,    0,\n",
       "         487]], dtype=int64)"
      ]
     },
     "execution_count": 63,
     "metadata": {},
     "output_type": "execute_result"
    }
   ],
   "source": [
    "f_obs= []\n",
    "for i in range(0, contingency_table.shape[0]-1):\n",
    "    f_obs.append(contingency_table.iloc[i][0:24].values)\n",
    "f_obs= np.array(f_obs)\n",
    "f_obs[0:5]"
   ]
  },
  {
   "cell_type": "markdown",
   "id": "229982aa",
   "metadata": {},
   "source": [
    "### chi squared test\n",
    "H0:There is no statistically significant relationship between City and Complaint Type.\n",
    "\n",
    "Ha:There is a statistically significant relationship between City and Complaint Type."
   ]
  },
  {
   "cell_type": "code",
   "execution_count": 74,
   "id": "3b88c5ef",
   "metadata": {
    "collapsed": true
   },
   "outputs": [
    {
     "data": {
      "text/plain": [
       "(141343.23155024176,\n",
       " 0.0,\n",
       " 1144,\n",
       " array([[7.54353629e+00, 7.16453252e-04, 3.38882388e-01, ...,\n",
       "         4.59246535e-01, 2.99764041e+00, 2.59000000e+02],\n",
       "        [2.32742851e+02, 2.21049341e-02, 1.04556338e+01, ...,\n",
       "         1.41692628e+01, 9.24870444e+01, 7.99100000e+03],\n",
       "        [2.63586886e+01, 2.50343704e-03, 1.18412572e+00, ...,\n",
       "         1.60470314e+00, 1.04743806e+01, 9.05000000e+02],\n",
       "        ...,\n",
       "        [9.03476818e+01, 8.58084165e-03, 4.05873810e+00, ...,\n",
       "         5.50031950e+00, 3.59022415e+01, 3.10200000e+03],\n",
       "        [1.26900338e+02, 1.20524588e-02, 5.70081299e+00, ...,\n",
       "         7.72562607e+00, 5.04274875e+01, 4.35700000e+03],\n",
       "        [4.83485338e+00, 4.59193976e-04, 2.17198751e-01, ...,\n",
       "         2.94343339e-01, 1.92126760e+00, 1.66000000e+02]]))"
      ]
     },
     "execution_count": 74,
     "metadata": {},
     "output_type": "execute_result"
    }
   ],
   "source": [
    "from scipy import stats\n",
    "stats.chi2_contingency(f_obs)[0:5]"
   ]
  },
  {
   "cell_type": "markdown",
   "id": "53095358",
   "metadata": {},
   "source": [
    "p value is 0,so we reject null hypothesis,\n",
    "It proves their is some sort of relationship between city and complaint type"
   ]
  }
 ],
 "metadata": {
  "kernelspec": {
   "display_name": "Python 3 (ipykernel)",
   "language": "python",
   "name": "python3"
  },
  "language_info": {
   "codemirror_mode": {
    "name": "ipython",
    "version": 3
   },
   "file_extension": ".py",
   "mimetype": "text/x-python",
   "name": "python",
   "nbconvert_exporter": "python",
   "pygments_lexer": "ipython3",
   "version": "3.9.7"
  }
 },
 "nbformat": 4,
 "nbformat_minor": 5
}
